{
  "nbformat": 4,
  "nbformat_minor": 0,
  "metadata": {
    "colab": {
      "provenance": [],
      "authorship_tag": "ABX9TyPxe2WnoNTAjbquHDEHedEd"
    },
    "kernelspec": {
      "name": "python3",
      "display_name": "Python 3"
    },
    "language_info": {
      "name": "python"
    }
  },
  "cells": [
    {
      "cell_type": "code",
      "execution_count": null,
      "metadata": {
        "id": "BAwXf_FB2kh4"
      },
      "outputs": [],
      "source": [
        "! pip install ktrain==0.31.7"
      ]
    },
    {
      "cell_type": "code",
      "source": [
        "import os\n",
        "import numpy as np\n",
        "import pandas as pd\n",
        "import ktrain"
      ],
      "metadata": {
        "id": "HVHyCYku2x-P"
      },
      "execution_count": null,
      "outputs": []
    },
    {
      "cell_type": "code",
      "source": [
        "from google.colab import files\n",
        "uploaded = files.upload()"
      ],
      "metadata": {
        "colab": {
          "resources": {
            "http://localhost:8080/nbextensions/google.colab/files.js": {
              "data": "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",
              "ok": true,
              "headers": [
                [
                  "content-type",
                  "application/javascript"
                ]
              ],
              "status": 200,
              "status_text": ""
            }
          },
          "base_uri": "https://localhost:8080/",
          "height": 74
        },
        "id": "DobO4wSg3PmO",
        "outputId": "642d0c00-9b0d-4fff-ed5e-78a6d4c28088"
      },
      "execution_count": null,
      "outputs": [
        {
          "output_type": "display_data",
          "data": {
            "text/plain": [
              "<IPython.core.display.HTML object>"
            ],
            "text/html": [
              "\n",
              "     <input type=\"file\" id=\"files-9d511b2c-f08e-4673-83b8-5030399e91bd\" name=\"files[]\" multiple disabled\n",
              "        style=\"border:none\" />\n",
              "     <output id=\"result-9d511b2c-f08e-4673-83b8-5030399e91bd\">\n",
              "      Upload widget is only available when the cell has been executed in the\n",
              "      current browser session. Please rerun this cell to enable.\n",
              "      </output>\n",
              "      <script src=\"/nbextensions/google.colab/files.js\"></script> "
            ]
          },
          "metadata": {}
        },
        {
          "output_type": "stream",
          "name": "stdout",
          "text": [
            "Saving Analyze_Comments_EN_SM_extract.xlsx to Analyze_Comments_EN_SM_extract.xlsx\n"
          ]
        }
      ]
    },
    {
      "cell_type": "code",
      "source": [
        "!pip install pyLDAvis"
      ],
      "metadata": {
        "id": "gTOkkBiq4Vs_"
      },
      "execution_count": null,
      "outputs": []
    },
    {
      "cell_type": "code",
      "source": [
        "import gensim\n",
        "from gensim import corpora\n",
        "\n",
        "import spacy\n",
        "\n",
        "import pyLDAvis\n",
        "import matplotlib.pyplot as plt\n",
        "import seaborn as sns\n",
        "%matplotlib inline"
      ],
      "metadata": {
        "id": "m_XkOvn34nmT",
        "colab": {
          "base_uri": "https://localhost:8080/"
        },
        "outputId": "99e72e58-5df4-418d-cb93-84b80a01c4ce"
      },
      "execution_count": null,
      "outputs": [
        {
          "output_type": "stream",
          "name": "stderr",
          "text": [
            "/usr/local/lib/python3.7/dist-packages/past/types/oldstr.py:5: DeprecationWarning: Using or importing the ABCs from 'collections' instead of from 'collections.abc' is deprecated since Python 3.3,and in 3.9 it will stop working\n",
            "  from collections import Iterable\n"
          ]
        }
      ]
    },
    {
      "cell_type": "code",
      "source": [
        "import nltk\n",
        "nltk.download('stopwords')\n",
        "from nltk.corpus import stopwords"
      ],
      "metadata": {
        "colab": {
          "base_uri": "https://localhost:8080/"
        },
        "id": "5vM-izlf4nry",
        "outputId": "3e2022ca-18ba-4321-f6ef-34adf5f23c28"
      },
      "execution_count": null,
      "outputs": [
        {
          "output_type": "stream",
          "name": "stderr",
          "text": [
            "[nltk_data] Downloading package stopwords to /root/nltk_data...\n",
            "[nltk_data]   Unzipping corpora/stopwords.zip.\n"
          ]
        }
      ]
    },
    {
      "cell_type": "code",
      "source": [
        "data = pd.read_excel(\"Analyze_Comments_EN_SM_extract.xlsx\")"
      ],
      "metadata": {
        "id": "F25eU0Ex4nvP"
      },
      "execution_count": null,
      "outputs": []
    },
    {
      "cell_type": "code",
      "source": [
        "data.info()"
      ],
      "metadata": {
        "colab": {
          "base_uri": "https://localhost:8080/"
        },
        "id": "v1zHldPuBjPv",
        "outputId": "5a21d5ec-5841-4be5-bc46-7c6861faae2e"
      },
      "execution_count": null,
      "outputs": [
        {
          "output_type": "stream",
          "name": "stdout",
          "text": [
            "<class 'pandas.core.frame.DataFrame'>\n",
            "RangeIndex: 1139 entries, 0 to 1138\n",
            "Data columns (total 4 columns):\n",
            " #   Column                                                                                                                                                                       Non-Null Count  Dtype \n",
            "---  ------                                                                                                                                                                       --------------  ----- \n",
            " 0   What skills and attitudes practiced in the course were THE MOST relevant to your work, and why? (max 30 words)                                                               1137 non-null   object\n",
            " 1   What skills and attitudes practiced in the course were THE LEAST relevant to your work, and why? (max 30 words)                                                              1121 non-null   object\n",
            " 2   What positive impacts to your work do you expect to see as a result of applying what you learned, and why?                                                                   1137 non-null   object\n",
            " 3   To better understand your ratings to the above questions, please use the space below to describe examples of positive moments in the course or areas that need improvement.  1134 non-null   object\n",
            "dtypes: object(4)\n",
            "memory usage: 35.7+ KB\n"
          ]
        }
      ]
    },
    {
      "cell_type": "code",
      "source": [
        "data = data.drop(data.index[0])"
      ],
      "metadata": {
        "id": "63SkLY0QP9Tl"
      },
      "execution_count": null,
      "outputs": []
    },
    {
      "cell_type": "code",
      "source": [
        "df = data['What skills and attitudes practiced in the course were THE LEAST relevant to your work, and why? (max 30 words)']"
      ],
      "metadata": {
        "id": "cPuRhsbTNx0D"
      },
      "execution_count": null,
      "outputs": []
    },
    {
      "cell_type": "code",
      "source": [
        "df"
      ],
      "metadata": {
        "colab": {
          "base_uri": "https://localhost:8080/"
        },
        "id": "OQ7bm3_iWQ7V",
        "outputId": "84ee0da7-cb52-4ba0-acdb-dc93820da450"
      },
      "execution_count": null,
      "outputs": [
        {
          "output_type": "execute_result",
          "data": {
            "text/plain": [
              "0                                     Open-Ended Response\n",
              "1                                                      na\n",
              "2                                                       .\n",
              "3                                   as i said pereviously\n",
              "4                                                       .\n",
              "                              ...                        \n",
              "1134                                                 None\n",
              "1135    Everything is relevant as it helps me to under...\n",
              "1136                                                 None\n",
              "1137                                     All are relevant\n",
              "1138                                                 Nil \n",
              "Name: What skills and attitudes practiced in the course were THE LEAST relevant to your work, and why? (max 30 words), Length: 1139, dtype: object"
            ]
          },
          "metadata": {},
          "execution_count": 14
        }
      ]
    },
    {
      "cell_type": "code",
      "source": [
        "from gensim.utils import simple_preprocess"
      ],
      "metadata": {
        "id": "sQK6S9sWKZr5"
      },
      "execution_count": null,
      "outputs": []
    },
    {
      "cell_type": "code",
      "source": [
        "from nltk.corpus import stopwords"
      ],
      "metadata": {
        "id": "WU0gUO_gM7I0"
      },
      "execution_count": null,
      "outputs": []
    },
    {
      "cell_type": "code",
      "source": [
        "stop_words = stopwords.words('english')\n",
        "stop_words.extend(['from', 'subject', 're', 'edu', 'use'])"
      ],
      "metadata": {
        "id": "OwUkMGvWNI_h"
      },
      "execution_count": null,
      "outputs": []
    },
    {
      "cell_type": "code",
      "source": [
        "def sent_to_words(sentences):\n",
        "    for sentence in sentences:\n",
        "        # deacc=True removes punctuations\n",
        "        yield(gensim.utils.simple_preprocess(str(sentence), deacc=True))"
      ],
      "metadata": {
        "id": "_nAJsN8bNPfs"
      },
      "execution_count": null,
      "outputs": []
    },
    {
      "cell_type": "code",
      "source": [
        "def remove_stopwords(texts):\n",
        "    return [[word for word in simple_preprocess(str(doc)) \n",
        "             if word not in stop_words] for doc in texts]"
      ],
      "metadata": {
        "id": "q3J-TiXGNSoU"
      },
      "execution_count": null,
      "outputs": []
    },
    {
      "cell_type": "code",
      "source": [
        "data = df.values.tolist()\n",
        "data_words = list(sent_to_words(data))"
      ],
      "metadata": {
        "id": "B7pcqA4INlwW"
      },
      "execution_count": null,
      "outputs": []
    },
    {
      "cell_type": "code",
      "source": [
        "data_words = remove_stopwords(data_words)"
      ],
      "metadata": {
        "id": "Gpy185vjiNmT"
      },
      "execution_count": null,
      "outputs": []
    },
    {
      "cell_type": "code",
      "source": [
        "data_words"
      ],
      "metadata": {
        "id": "cFs77mWSiQ89"
      },
      "execution_count": null,
      "outputs": []
    },
    {
      "cell_type": "code",
      "source": [
        "import gensim.corpora as corpora"
      ],
      "metadata": {
        "id": "oUXrRAIHiYwY"
      },
      "execution_count": null,
      "outputs": []
    },
    {
      "cell_type": "code",
      "source": [
        "id2word = corpora.Dictionary(data_words)"
      ],
      "metadata": {
        "id": "vdIli3G5id4L"
      },
      "execution_count": null,
      "outputs": []
    },
    {
      "cell_type": "code",
      "source": [
        "texts = data_words"
      ],
      "metadata": {
        "id": "3xW3yz0vigWR"
      },
      "execution_count": null,
      "outputs": []
    },
    {
      "cell_type": "code",
      "source": [
        "texts"
      ],
      "metadata": {
        "id": "KNIMo-F8tZhl"
      },
      "execution_count": null,
      "outputs": []
    },
    {
      "cell_type": "code",
      "source": [
        "corpus = [id2word.doc2bow(text) for text in texts]"
      ],
      "metadata": {
        "id": "gCQ0VKzNiicd"
      },
      "execution_count": null,
      "outputs": []
    },
    {
      "cell_type": "code",
      "source": [
        "corpus"
      ],
      "metadata": {
        "id": "h3YOanBStdnl"
      },
      "execution_count": null,
      "outputs": []
    },
    {
      "cell_type": "code",
      "source": [
        "from pprint import pprint"
      ],
      "metadata": {
        "id": "ZJZm3sdsikvf"
      },
      "execution_count": null,
      "outputs": []
    },
    {
      "cell_type": "code",
      "source": [
        "# number of topics\n",
        "num_topics = 10\n",
        "# Build LDA model\n",
        "lda_model = gensim.models.LdaMulticore(corpus=corpus,\n",
        "                                       id2word=id2word,\n",
        "                                       num_topics=num_topics)\n",
        "# Print the Keyword in the 10 topics\n",
        "pprint(lda_model.print_topics())\n",
        "doc_lda = lda_model[corpus]"
      ],
      "metadata": {
        "id": "5RwBsp_sioyp"
      },
      "execution_count": null,
      "outputs": []
    },
    {
      "cell_type": "code",
      "source": [
        "lda_model.print_topics()"
      ],
      "metadata": {
        "colab": {
          "base_uri": "https://localhost:8080/"
        },
        "id": "22lQzZsVkW2M",
        "outputId": "79e01898-bfd8-484b-bdc8-501466297243"
      },
      "execution_count": null,
      "outputs": [
        {
          "output_type": "execute_result",
          "data": {
            "text/plain": [
              "[(0,\n",
              "  '0.062*\"na\" + 0.023*\"think\" + 0.021*\"work\" + 0.017*\"relevant\" + 0.016*\"ihl\" + 0.015*\"would\" + 0.013*\"icrc\" + 0.010*\"field\" + 0.010*\"cyber\" + 0.009*\"information\"'),\n",
              " (1,\n",
              "  '0.087*\"none\" + 0.026*\"nothing\" + 0.019*\"part\" + 0.016*\"icrc\" + 0.013*\"field\" + 0.013*\"useful\" + 0.009*\"ihl\" + 0.009*\"work\" + 0.009*\"understanding\" + 0.009*\"everything\"'),\n",
              " (2,\n",
              "  '0.035*\"icrc\" + 0.029*\"know\" + 0.017*\"nothing\" + 0.016*\"field\" + 0.014*\"information\" + 0.013*\"related\" + 0.011*\"relevant\" + 0.010*\"working\" + 0.009*\"department\" + 0.009*\"understand\"'),\n",
              " (3,\n",
              "  '0.053*\"work\" + 0.036*\"relevant\" + 0.024*\"icrc\" + 0.020*\"least\" + 0.015*\"nan\" + 0.011*\"related\" + 0.011*\"information\" + 0.010*\"course\" + 0.009*\"skills\" + 0.009*\"activities\"'),\n",
              " (4,\n",
              "  '0.029*\"work\" + 0.024*\"none\" + 0.022*\"relevant\" + 0.020*\"funding\" + 0.020*\"icrc\" + 0.019*\"course\" + 0.016*\"information\" + 0.012*\"important\" + 0.008*\"different\" + 0.007*\"protection\"'),\n",
              " (5,\n",
              "  '0.084*\"relevant\" + 0.023*\"everything\" + 0.022*\"course\" + 0.019*\"work\" + 0.019*\"icrc\" + 0.016*\"think\" + 0.016*\"skills\" + 0.015*\"none\" + 0.013*\"attitudes\" + 0.010*\"working\"'),\n",
              " (6,\n",
              "  '0.103*\"none\" + 0.041*\"relevant\" + 0.029*\"skills\" + 0.025*\"work\" + 0.015*\"field\" + 0.015*\"think\" + 0.014*\"icrc\" + 0.011*\"course\" + 0.009*\"attitudes\" + 0.008*\"knowledge\"'),\n",
              " (7,\n",
              "  '0.044*\"nothing\" + 0.022*\"relevant\" + 0.022*\"work\" + 0.017*\"important\" + 0.015*\"skills\" + 0.013*\"course\" + 0.013*\"attitudes\" + 0.011*\"good\" + 0.011*\"icrc\" + 0.010*\"ihl\"'),\n",
              " (8,\n",
              "  '0.040*\"work\" + 0.033*\"relevant\" + 0.029*\"course\" + 0.024*\"skills\" + 0.016*\"icrc\" + 0.013*\"attitudes\" + 0.010*\"nothing\" + 0.010*\"conflict\" + 0.010*\"useful\" + 0.009*\"least\"'),\n",
              " (9,\n",
              "  '0.041*\"ihl\" + 0.027*\"work\" + 0.016*\"think\" + 0.014*\"relevant\" + 0.014*\"icrc\" + 0.013*\"working\" + 0.012*\"good\" + 0.012*\"interesting\" + 0.011*\"understand\" + 0.011*\"field\"')]"
            ]
          },
          "metadata": {},
          "execution_count": 29
        }
      ]
    },
    {
      "cell_type": "code",
      "source": [
        "import pyLDAvis.gensim_models as gensimvis\n",
        "import pickle \n",
        "import pyLDAvis\n",
        "# Visualize the topics\n",
        "pyLDAvis.enable_notebook()\n",
        "LDAvis_data_filepath = os.path.join('./LDA'+str(num_topics))\n",
        "\n",
        "if 1 == 1:\n",
        "    LDAvis_prepared = gensimvis.prepare(lda_model, corpus, id2word)\n",
        "    with open(LDAvis_data_filepath, 'wb') as f:\n",
        "        pickle.dump(LDAvis_prepared, f)\n",
        "\n",
        "# load the pre-prepared pyLDAvis data from disk\n",
        "with open(LDAvis_data_filepath, 'rb') as f:\n",
        "    LDAvis_prepared = pickle.load(f)\n",
        "pyLDAvis.save_html(LDAvis_prepared, './LDA'+ str(num_topics) +'.html')\n",
        "\n",
        "LDAvis_prepared"
      ],
      "metadata": {
        "colab": {
          "base_uri": "https://localhost:8080/",
          "height": 862
        },
        "id": "Yfvghl1Kisg1",
        "outputId": "abaa413d-2530-4cfd-db44-2d8546608f87"
      },
      "execution_count": null,
      "outputs": [
        {
          "output_type": "execute_result",
          "data": {
            "text/plain": [
              "PreparedData(topic_coordinates=              x         y  topics  cluster       Freq\n",
              "topic                                                \n",
              "5     -0.006044 -0.063936       1        1  17.350140\n",
              "3     -0.108849 -0.028495       2        1  14.570271\n",
              "8     -0.082734 -0.048327       3        1  10.615310\n",
              "6      0.101404 -0.071815       4        1  10.027366\n",
              "9     -0.015422  0.058114       5        1   9.716777\n",
              "0      0.001704  0.127357       6        1   9.319638\n",
              "7     -0.027108  0.019097       7        1   9.223465\n",
              "2      0.034982  0.071429       8        1   6.779959\n",
              "1      0.113064 -0.017760       9        1   6.404028\n",
              "4     -0.010998 -0.045664      10        1   5.993047, topic_info=           Term        Freq       Total Category  logprob  loglift\n",
              "22         none  116.000000  116.000000  Default  30.0000  30.0000\n",
              "3            na   41.000000   41.000000  Default  29.0000  29.0000\n",
              "18      nothing   59.000000   59.000000  Default  28.0000  28.0000\n",
              "93          ihl   51.000000   51.000000  Default  27.0000  27.0000\n",
              "29         know   38.000000   38.000000  Default  26.0000  26.0000\n",
              "..          ...         ...         ...      ...      ...      ...\n",
              "73       useful    1.636719   26.945754  Topic10  -5.3163   0.0134\n",
              "431        code    1.404610   14.006562  Topic10  -5.4692   0.5148\n",
              "59       skills    1.576726   68.874229  Topic10  -5.3536  -0.9624\n",
              "18      nothing    1.405773   59.952758  Topic10  -5.4684  -0.9384\n",
              "23   everything    1.404713   39.402717  Topic10  -5.4691  -0.5194\n",
              "\n",
              "[725 rows x 6 columns], token_table=      Topic      Freq      Term\n",
              "term                           \n",
              "903       7  0.637959   ability\n",
              "198       2  0.310711      able\n",
              "198       7  0.621421      able\n",
              "1143      6  0.653269  abstract\n",
              "982       1  0.815667   account\n",
              "...     ...       ...       ...\n",
              "113      10  0.085917     would\n",
              "157       8  0.669382   wouldnt\n",
              "1318      6  0.653269     years\n",
              "763       3  0.433981       yet\n",
              "763       8  0.433981       yet\n",
              "\n",
              "[1298 rows x 3 columns], R=30, lambda_step=0.01, plot_opts={'xlab': 'PC1', 'ylab': 'PC2'}, topic_order=[6, 4, 9, 7, 10, 1, 8, 3, 2, 5])"
            ],
            "text/html": [
              "\n",
              "<link rel=\"stylesheet\" type=\"text/css\" href=\"https://cdn.jsdelivr.net/gh/bmabey/pyLDAvis@3.3.1/pyLDAvis/js/ldavis.v1.0.0.css\">\n",
              "\n",
              "\n",
              "<div id=\"ldavis_el601401635254704169594395887\"></div>\n",
              "<script type=\"text/javascript\">\n",
              "\n",
              "var ldavis_el601401635254704169594395887_data = {\"mdsDat\": {\"x\": [-0.006044136390086128, -0.10884912457093693, -0.08273400932250906, 0.1014040167031319, -0.015421793549678318, 0.001704220195260791, -0.02710752679712555, 0.03498180746261173, 0.11306408102291152, -0.010997534753580061], \"y\": [-0.06393594532228752, -0.02849495180406708, -0.04832677166343379, -0.07181511112668464, 0.05811417864501575, 0.12735714398347897, 0.019096909793823183, 0.07142871932919378, -0.017760368232476006, -0.045663803602562794], \"topics\": [1, 2, 3, 4, 5, 6, 7, 8, 9, 10], \"cluster\": [1, 1, 1, 1, 1, 1, 1, 1, 1, 1], \"Freq\": [17.35014037683479, 14.570271119892322, 10.61530961511233, 10.027365958044523, 9.716776761515852, 9.319637575149546, 9.223465019772219, 6.779958917313257, 6.404027948984445, 5.993046707380712]}, \"tinfo\": {\"Term\": [\"none\", \"na\", \"nothing\", \"ihl\", \"know\", \"funding\", \"skills\", \"course\", \"relevant\", \"nan\", \"information\", \"work\", \"part\", \"attitudes\", \"field\", \"icrc\", \"everything\", \"understand\", \"non\", \"think\", \"related\", \"conduct\", \"cyber\", \"found\", \"would\", \"good\", \"since\", \"conflict\", \"department\", \"code\", \"guardian\", \"unnecessary\", \"travel\", \"mind\", \"vague\", \"nil\", \"names\", \"cant\", \"fact\", \"taking\", \"either\", \"concentration\", \"account\", \"actually\", \"practiced\", \"employee\", \"peu\", \"qui\", \"memorisation\", \"rassemble\", \"sujets\", \"enormement\", \"formation\", \"choose\", \"detaillee\", \"ensemble\", \"elle\", \"informations\", \"trop\", \"sens\", \"non\", \"everything\", \"learned\", \"attention\", \"ninguno\", \"fue\", \"relevant\", \"todo\", \"new\", \"stuff\", \"bit\", \"pretty\", \"find\", \"rules\", \"role\", \"attitudes\", \"course\", \"see\", \"staff\", \"movement\", \"war\", \"think\", \"much\", \"skills\", \"working\", \"icrc\", \"know\", \"work\", \"none\", \"least\", \"really\", \"information\", \"understand\", \"nothing\", \"anything\", \"important\", \"useful\", \"activities\", \"say\", \"something\", \"nan\", \"components\", \"documents\", \"relate\", \"relationship\", \"fundaments\", \"drawing\", \"perfect\", \"must\", \"collective\", \"impeccable\", \"assume\", \"serve\", \"functions\", \"diverse\", \"limits\", \"obviously\", \"honesty\", \"paramount\", \"quality\", \"restrict\", \"purposely\", \"performing\", \"carried\", \"moralizing\", \"message\", \"definite\", \"derives\", \"challanges\", \"humanity\", \"applicable\", \"filed\", \"questions\", \"conduct\", \"code\", \"connected\", \"goal\", \"beneficiaries\", \"helpful\", \"cause\", \"open\", \"done\", \"works\", \"work\", \"global\", \"least\", \"makes\", \"region\", \"less\", \"related\", \"organization\", \"icrc\", \"relevant\", \"activities\", \"could\", \"information\", \"protection\", \"one\", \"since\", \"already\", \"course\", \"directly\", \"skills\", \"everything\", \"think\", \"important\", \"law\", \"field\", \"good\", \"say\", \"ict\", \"started\", \"alot\", \"around\", \"happy\", \"immediately\", \"comment\", \"whether\", \"ensuring\", \"forensic\", \"increasingly\", \"efforts\", \"dead\", \"strengthen\", \"forensics\", \"agency\", \"refresher\", \"clearly\", \"eight\", \"trainers\", \"frustrating\", \"beijing\", \"donors\", \"engagement\", \"games\", \"helped\", \"impact\", \"problems\", \"requiring\", \"allocate\", \"yet\", \"financial\", \"wifi\", \"difficult\", \"societies\", \"using\", \"months\", \"conflict\", \"thing\", \"practice\", \"course\", \"help\", \"skills\", \"work\", \"conventions\", \"context\", \"unit\", \"attitudes\", \"mission\", \"given\", \"found\", \"main\", \"learn\", \"useful\", \"relevant\", \"sure\", \"modes\", \"icrc\", \"least\", \"nothing\", \"already\", \"working\", \"understand\", \"say\", \"maybe\", \"new\", \"important\", \"parts\", \"good\", \"information\", \"protection\", \"even\", \"existen\", \"discussion\", \"tout\", \"diffrent\", \"que\", \"como\", \"mexico\", \"bueno\", \"pero\", \"neophyte\", \"operates\", \"delegacion\", \"trabajan\", \"guidelines\", \"saber\", \"wicrc\", \"pinpoint\", \"oriented\", \"meaningful\", \"tackled\", \"deemed\", \"inflexible\", \"essentially\", \"screen\", \"rushed\", \"facilitation\", \"heard\", \"participatory\", \"suma\", \"intervene\", \"none\", \"es\", \"la\", \"parte\", \"better\", \"de\", \"skills\", \"en\", \"concepts\", \"received\", \"essential\", \"knowledge\", \"field\", \"relevant\", \"job\", \"think\", \"work\", \"operations\", \"line\", \"communication\", \"see\", \"los\", \"relevante\", \"attitudes\", \"icrc\", \"details\", \"course\", \"important\", \"know\", \"much\", \"learning\", \"na\", \"information\", \"really\", \"understanding\", \"part\", \"activities\", \"would\", \"ihl\", \"resources\", \"fully\", \"everybody\", \"kept\", \"secret\", \"interact\", \"back\", \"office\", \"revolving\", \"items\", \"exceeding\", \"viewed\", \"china\", \"worknajob\", \"manner\", \"negotiations\", \"slightly\", \"days\", \"provision\", \"documentos\", \"couple\", \"diplomatice\", \"iam\", \"tough\", \"muchos\", \"requires\", \"healthcare\", \"contents\", \"dialy\", \"away\", \"situations\", \"confidentiality\", \"safety\", \"ihl\", \"son\", \"found\", \"needed\", \"interesting\", \"motivation\", \"details\", \"understand\", \"since\", \"respect\", \"good\", \"learn\", \"working\", \"reading\", \"think\", \"work\", \"however\", \"history\", \"still\", \"knowledge\", \"field\", \"know\", \"icrc\", \"cyber\", \"related\", \"relevant\", \"least\", \"law\", \"really\", \"even\", \"course\", \"nothing\", \"part\", \"skills\", \"none\", \"important\", \"anything\", \"clear\", \"na\", \"responsibility\", \"duty\", \"professional\", \"arise\", \"isit\", \"fail\", \"discuss\", \"implications\", \"manager\", \"prevent\", \"principals\", \"cooperated\", \"wasted\", \"previous\", \"easier\", \"coordinating\", \"directors\", \"conference\", \"follow\", \"emblem\", \"wearing\", \"abstract\", \"years\", \"achieve\", \"principios\", \"tanto\", \"fortunately\", \"dedicar\", \"never\", \"would\", \"people\", \"info\", \"structure\", \"etc\", \"things\", \"cyber\", \"especially\", \"experience\", \"think\", \"movement\", \"respect\", \"security\", \"member\", \"diversity\", \"ihl\", \"need\", \"general\", \"time\", \"room\", \"another\", \"group\", \"aware\", \"field\", \"work\", \"information\", \"icrc\", \"relevant\", \"important\", \"details\", \"already\", \"least\", \"much\", \"useful\", \"know\", \"one\", \"course\", \"nothing\", \"family\", \"ideas\", \"ability\", \"personal\", \"application\", \"establishing\", \"cover\", \"compotent\", \"worked\", \"differs\", \"explain\", \"powers\", \"terms\", \"operating\", \"increased\", \"participate\", \"listed\", \"necesary\", \"awareness\", \"correctly\", \"included\", \"ruling\", \"workplace\", \"benefitted\", \"approval\", \"consider\", \"striongly\", \"intended\", \"apart\", \"attending\", \"particular\", \"niac\", \"cases\", \"able\", \"wec\", \"nothing\", \"deal\", \"mostly\", \"sure\", \"question\", \"important\", \"subjects\", \"time\", \"good\", \"ones\", \"need\", \"attitudes\", \"understadn\", \"feel\", \"skills\", \"security\", \"work\", \"say\", \"topic\", \"relevant\", \"one\", \"get\", \"course\", \"ihl\", \"related\", \"icrc\", \"least\", \"skill\", \"working\", \"think\", \"since\", \"much\", \"training\", \"everything\", \"would\", \"learn\", \"topics\", \"assuming\", \"present\", \"lease\", \"maynot\", \"doesnt\", \"falls\", \"favorite\", \"assessments\", \"invloved\", \"looks\", \"deep\", \"aquired\", \"crucial\", \"relaated\", \"monkey\", \"survey\", \"comments\", \"wouldnt\", \"opetation\", \"depends\", \"mouvement\", \"sorry\", \"tenders\", \"week\", \"saved\", \"sometning\", \"care\", \"tender\", \"scheme\", \"select\", \"points\", \"iac\", \"department\", \"know\", \"point\", \"icrc\", \"non\", \"related\", \"structure\", \"field\", \"finished\", \"information\", \"nothing\", \"yet\", \"kind\", \"understand\", \"scope\", \"much\", \"history\", \"staff\", \"working\", \"activities\", \"every\", \"times\", \"topic\", \"assistance\", \"well\", \"action\", \"apply\", \"necessary\", \"good\", \"relevant\", \"think\", \"could\", \"time\", \"ihl\", \"work\", \"skills\", \"important\", \"useful\", \"say\", \"two\", \"taken\", \"basic\", \"biggest\", \"deleg\", \"bec\", \"im\", \"last\", \"recruit\", \"similar\", \"successful\", \"effected\", \"imagined\", \"employer\", \"thisk\", \"food\", \"let\", \"honestly\", \"glad\", \"promoted\", \"moments\", \"becoming\", \"drink\", \"saw\", \"advanced\", \"govern\", \"simply\", \"guess\", \"previously\", \"discussions\", \"none\", \"courses\", \"part\", \"actions\", \"prevention\", \"nothing\", \"understanding\", \"useful\", \"irrelevant\", \"online\", \"communication\", \"field\", \"great\", \"internet\", \"icrc\", \"conduct\", \"code\", \"departments\", \"everything\", \"already\", \"ihl\", \"face\", \"principles\", \"know\", \"support\", \"info\", \"think\", \"general\", \"say\", \"work\", \"related\", \"important\", \"least\", \"relevant\", \"skills\", \"since\", \"attitudes\", \"sources\", \"funding\", \"external\", \"change\", \"rrn\", \"americas\", \"deadlines\", \"pandemic\", \"insight\", \"experts\", \"placed\", \"fun\", \"conversation\", \"perfectly\", \"seeing\", \"engaging\", \"enlightening\", \"plans\", \"towards\", \"success\", \"skim\", \"toward\", \"goos\", \"company\", \"becluse\", \"cousrse\", \"goals\", \"usefull\", \"dates\", \"impressive\", \"decision\", \"contribute\", \"incorrect\", \"ways\", \"modes\", \"different\", \"information\", \"daily\", \"work\", \"course\", \"none\", \"icrc\", \"position\", \"fundamental\", \"important\", \"protection\", \"relevant\", \"conduct\", \"nan\", \"every\", \"scenarios\", \"less\", \"action\", \"would\", \"due\", \"data\", \"cyber\", \"part\", \"least\", \"ihl\", \"useful\", \"code\", \"skills\", \"nothing\", \"everything\"], \"Freq\": [116.0, 41.0, 59.0, 51.0, 38.0, 11.0, 68.0, 72.0, 193.0, 15.0, 37.0, 150.0, 23.0, 37.0, 41.0, 100.0, 39.0, 21.0, 12.0, 61.0, 30.0, 13.0, 17.0, 10.0, 23.0, 26.0, 19.0, 12.0, 8.0, 14.0, 3.92769917333207, 1.8242773206175193, 1.8242682225102769, 1.8241282689099805, 1.824108163216198, 1.8237957948675425, 1.6896553234873566, 2.1636264994283003, 1.62958074601048, 2.6930136849710817, 2.69295033518732, 1.613445533621881, 1.5828998179398293, 2.6929289939481094, 8.729568752132266, 3.561647723698745, 0.955592849171932, 0.9555922875603738, 0.9555921752380623, 0.9555919505934389, 0.9555919505934389, 0.955591613626504, 0.955591613626504, 0.9555915013041925, 0.955591613626504, 0.9555915013041925, 0.9555912766595691, 0.9555909396926343, 0.9555906027256994, 0.9555904904033877, 7.035740205478443, 21.7479699824927, 7.036530954552349, 1.8242978756005483, 1.8242127352883295, 1.824211949032148, 80.68820083985908, 1.824247892171871, 4.430338822160719, 1.8348585316627304, 1.3753859197075606, 1.824285407823957, 5.044388725453338, 4.799591682320249, 5.2990683348532714, 12.534257921233253, 21.210422356365054, 3.704463745784952, 5.0570676679906335, 5.302314449659507, 3.3184550924650424, 15.877366188589694, 7.721157009848107, 15.187865344969, 9.477953444404198, 18.209150420765916, 8.66353401583313, 18.703489001475532, 14.451726480400701, 8.773969312632113, 5.266974256105339, 7.318109960431745, 5.606392063848529, 8.673723895944606, 4.4453644024326815, 6.331273537055577, 5.313774470470945, 4.54987761767305, 4.4304848411658435, 5.449626250552041, 12.039030088594796, 1.7935258243983603, 1.7935048840622876, 1.7934926217033262, 1.793465078558582, 1.7932711446353147, 2.647431792027233, 2.647596862244022, 2.647604219659399, 0.9394767644729909, 0.9394761985179619, 0.9394760098662855, 0.9394760098662855, 0.9394759155404474, 0.9394758212146093, 0.939475726888771, 0.939475726888771, 0.9394756325629329, 0.9394755382370947, 0.9394752552595802, 0.9394751609337421, 0.9394751609337421, 0.9394748779562275, 0.9394745949787131, 0.9394738403720078, 0.9394737460461696, 0.9394735573944932, 0.939473368742817, 0.9394730857653024, 1.7935380867573218, 6.063181115907485, 1.79348677350136, 3.5016271513275967, 6.917640398903035, 6.9177867926038665, 2.6475829020199737, 1.7935275222634472, 1.7934256503582289, 5.209538317367093, 1.7873384267180832, 1.6913886749231464, 2.5102801368184338, 5.138201949782953, 43.23041603011789, 1.6814518251758073, 16.077867790293837, 2.6475910140420558, 4.355561605359596, 4.182551039513957, 9.242708922709175, 5.270029854685715, 19.243621006296603, 29.479480642192335, 7.133377928313989, 5.209771490839037, 9.101828378466033, 5.5775049212625065, 5.209335328163361, 4.914265995822042, 4.355717808947597, 8.387011330110195, 3.3681904249290913, 7.5524751733485225, 5.444675275958431, 6.174254317987106, 5.021705766615544, 3.3419150194498246, 4.348087980550099, 3.931048170697623, 3.638501488572191, 2.470364096673215, 2.446644565550278, 1.673496101815829, 1.673481945086587, 1.6734099244446181, 1.6519033787345447, 3.266274381925184, 0.8765982128942663, 0.8765980067283065, 0.8765975256744002, 0.8765968384545341, 0.876596494844601, 0.8765963574006278, 0.8765963574006278, 0.8765952578488421, 0.8765945706289759, 0.8765942270190429, 0.8765942270190429, 0.8765938146871232, 0.8765935397991768, 0.876592096637458, 0.8765913406956052, 0.8765910658076588, 0.8765907909197123, 0.8765905847537525, 0.8765898975338864, 0.8765894852019667, 0.8765890728700471, 0.8765890041480604, 0.8765890041480604, 2.47033743254241, 1.6734816701986406, 1.6734954145959628, 4.860934270027962, 1.6734816701986406, 2.470378665734377, 1.6621737421896623, 5.657832777447404, 3.259495645165824, 3.2672450112640847, 17.045793862257526, 3.267294765982392, 14.298705567655993, 23.54811319863722, 1.6731478187876818, 3.2671773888292592, 1.3929722652477612, 7.901098746940102, 1.6734397497868074, 1.6734706746807826, 3.267274149386408, 1.6734969264796682, 4.575800700041968, 5.64424396670279, 19.240559702031067, 3.266629812039939, 2.215637806659244, 9.488587633183942, 5.492586087544928, 5.658609610784061, 3.2346696900584413, 4.031774913213611, 3.267296965085963, 3.267267277187747, 2.459286662207332, 2.371346709483881, 3.4432170041730465, 2.4703585989142867, 2.528941893397031, 2.4705331527602796, 2.470467454541079, 2.470406979192861, 1.6135686053304419, 1.6135483516245548, 1.6135287470759077, 1.6135144656166285, 3.4515415206543087, 1.3948054717523575, 0.8452029211883063, 0.8452029211883063, 0.8452022071153423, 0.8452022071153423, 0.8452019474524464, 0.8452017527052744, 0.8452017527052744, 0.8452015579581024, 0.8452009737165864, 0.8452004543907944, 0.8452002596436224, 0.8452002596436224, 0.8451993508234865, 0.8451992859077625, 0.8451990911605904, 0.8451985069190745, 0.8451983770876266, 0.8451973384360426, 0.8451966243630786, 0.8451961699530106, 0.8451948067228067, 0.8451933785768787, 0.8451935084083267, 0.8451924697567428, 57.2909079363075, 1.5785839636910746, 2.376011833225158, 1.1864189868237478, 2.238446325874124, 3.0278882630420942, 16.286589664633674, 1.9304771728623733, 1.6135199185374443, 1.1188145833702245, 1.6135083635385727, 4.68695526067046, 8.52879608028442, 23.037065706015355, 3.4546629283269814, 8.335740352397842, 13.868424935862501, 2.3818264644550187, 1.6135648402184501, 2.381875281079464, 2.1999139100868716, 1.431695130228141, 1.0618903095758623, 4.829230273966029, 7.960918520016454, 2.5346341838005517, 6.073826732635902, 4.029663561157693, 3.8554056093003775, 3.0405265755156248, 2.381839447599818, 3.150787231039035, 2.981955454719182, 2.3819308489392057, 2.2428816278004957, 2.381952660622469, 2.3819417547808373, 2.3268446638698186, 2.382310995418932, 1.6838001555155138, 1.6837938650140896, 1.6837904681433207, 1.6837805291510706, 1.6837754967499312, 1.683773861219561, 2.4855441883823435, 4.089171651627562, 0.8819963628851548, 0.8819961112650978, 0.8819954193099412, 0.8819944757347276, 0.881994349924699, 0.881994349924699, 0.8819939724946136, 0.8819937208745566, 0.8819933434444712, 0.8819933434444712, 0.8819932176344427, 0.8819931547294285, 0.8819931547294285, 0.8819930289194, 0.8819924627742718, 0.8819920853441864, 0.8819918966291437, 0.8819917708191152, 0.8819917708191152, 0.8819915191990582, 0.8819915821040725, 0.8819912046739871, 2.4855794151903186, 1.6837845550719819, 1.6837826679215546, 21.89006327921138, 1.270611840533812, 4.775549398096619, 2.335419358935584, 6.354402350533135, 1.4720516869677784, 3.9294251228225456, 5.9584137761652824, 5.474214758427468, 1.6838070750670802, 6.493684620105248, 4.782742209044999, 6.973672524569708, 2.339228886598023, 8.807770875751231, 14.443576034761149, 2.3812514490715104, 2.9414505436749825, 2.4855957704940215, 3.666441652465718, 5.69299638499744, 4.933131491171628, 7.305869375615753, 3.28737553340894, 3.9292837123505318, 7.463538025990358, 3.8976409804669334, 2.4855547564247362, 2.820953221075594, 2.485607848256756, 3.5317874306013493, 3.288116051236586, 2.769438040333072, 2.9413526634728235, 2.4893028887932758, 2.4858421065297893, 2.4856040739559013, 2.3580551416047846, 32.016679972373616, 1.597382870125075, 1.5973482384134903, 2.3580954447116462, 0.8367557284716115, 0.8367539787858346, 0.8367539787858346, 0.8367537977838577, 0.8367531944439346, 0.836752892773973, 0.836752470436027, 0.83675228943405, 0.83675228943405, 0.8367521687660654, 0.8367519274300962, 0.8367516257601346, 0.8367510224202115, 0.8367505397482731, 0.8367504794142807, 0.8367504794142807, 0.8367501777443193, 0.8367497554063731, 0.8367495744043961, 0.8367493934024193, 0.8367492727344346, 0.8367488503964885, 0.8367472817126884, 0.8367472213786962, 0.8367468593747422, 1.5974319819948135, 7.800212138776576, 3.8794100620108813, 3.1188332389070026, 3.1187533567011867, 2.3581070288381696, 1.7077039370639258, 5.02159238771878, 1.5974445314652137, 1.597431861326829, 11.76475008523026, 3.87651234102832, 1.5973975916191983, 4.231543374716395, 1.597412675117275, 1.5973990396350135, 8.398122967891208, 2.358121026324385, 3.1188037959187564, 3.8794274382006657, 1.2894322606545818, 1.4505073679346543, 2.1444732915069475, 1.5974498408565367, 5.400698856361409, 10.664841133236807, 4.767266751279485, 6.958684715521321, 8.604342622911673, 3.879352141378266, 2.3579786381025385, 2.358105339486385, 3.1189256705832182, 2.5617890361421662, 2.3579537804977075, 2.4779952569372754, 2.179849283220761, 2.4611294927275402, 2.3592574774034953, 1.60763720572093, 1.3873098380314441, 0.8771695012999201, 0.8771686653405297, 0.8771680682266795, 0.8771680682266795, 0.8771675308242143, 0.8771672919786742, 0.877167053133134, 0.8771668142875939, 0.8771668142875939, 0.8771663365965138, 0.8771651423688132, 0.8771651423688132, 0.8771645452549629, 0.8771645452549629, 0.8771641869866528, 0.8771640078524977, 0.877162395645102, 0.8771620970881768, 0.8771617985312518, 0.8771617985312518, 0.8771614999743266, 0.8771613208401715, 0.877160007189701, 0.877160007189701, 0.8771597086327758, 0.8771595892100058, 0.8771592309416956, 0.8771591115189256, 1.674446124816912, 1.645474757916038, 2.3648639105162075, 1.6745748625630286, 1.6745889544498946, 22.403104038785486, 1.6116430036967995, 1.627379819797691, 4.0661112516566, 1.6745809531243012, 8.822361914535504, 1.6745429766834246, 4.864212668534959, 5.661576530385474, 1.6451840828937303, 2.441216380858161, 6.4299249583329665, 1.1290841319568938, 1.6745495449357775, 7.5674043916017775, 3.2690941935303175, 11.187986548096944, 3.854572444460814, 2.4720109751894253, 11.469141187176026, 3.2689707103860832, 1.6745999413447394, 6.459302004383709, 5.142883313996949, 3.487424334813446, 5.457011535269672, 4.066856449741728, 2.293884748289994, 3.2694608214343783, 3.2697440922449426, 2.472015035563607, 2.4720162297913078, 2.073985152962836, 2.47215882057875, 2.278424993015624, 2.2029416815941127, 1.928807071207025, 0.7962168408269495, 0.796216314117211, 0.7962153484826905, 0.7962149973428648, 0.7962146462030392, 0.7962142072782571, 0.7962140317083443, 0.7962138561384314, 0.7962131538587801, 0.7962130660738237, 0.7962128905039109, 0.796211837084434, 0.7962114859446083, 0.7962113981596519, 0.7962104325251314, 0.7962104325251314, 0.7962103447401749, 0.7962098180304364, 0.7962099058153929, 0.7962091157507851, 0.7962091157507851, 0.7962080623313081, 0.7962077989764389, 0.7962075356215697, 0.7962070966967876, 0.7962063066321798, 0.7962047265029644, 0.7962044631480951, 0.796204024223313, 0.7962034975135746, 1.5200370769593943, 1.5199814212970277, 3.4889667422200166, 10.929246737381296, 1.520042519626692, 13.250598415371561, 2.967039879300892, 4.94182216760564, 2.243790333170095, 5.863027317159891, 1.014837286345144, 5.139289511101519, 6.586516516221698, 1.520031107582358, 1.5199930089112743, 3.4518140418266303, 1.3459490619804906, 3.230281330379399, 2.244285791464096, 2.243900591075351, 3.6043519912103146, 3.0045258113888256, 2.29223902618493, 1.2952759859550795, 1.8431426012149088, 1.5466166060624447, 1.7543619878251957, 1.52007096195257, 1.3970140100513342, 1.4174387602902818, 2.2890022192720307, 4.029848132928066, 2.5308413468369633, 1.777594276540178, 1.7729084911367081, 1.8444600778407712, 1.970167784285886, 1.586296459781079, 1.5464726387339256, 1.5202870885152615, 1.5201171368396438, 1.385864364466845, 2.705710636288603, 2.045761713031974, 0.7259367510104016, 0.7259360047528075, 0.725935341412724, 0.7259327709698999, 0.7259314442897328, 0.7259312784547118, 0.7259296201045029, 0.725929454269482, 0.7259293713519716, 0.7259277130017625, 0.7259272154966998, 0.725925971734043, 0.7259258888165326, 0.7259257229815117, 0.7259243963013445, 0.7259243963013445, 0.7259238987962818, 0.7259237329612609, 0.7259223233635833, 0.7259223233635833, 0.7259223233635833, 0.7259219916935415, 0.7259218258585206, 0.7259204991783534, 0.7259204162608429, 0.7259157728802578, 0.7259155241277264, 31.06834209026153, 2.705664368317772, 6.877876813820746, 1.3858742316505885, 1.3856429747139438, 9.237665380778699, 3.283880340678812, 4.51563455189356, 2.705674815924089, 2.045661051174288, 2.0457588938366187, 4.685562712779159, 1.3857815298739056, 1.3858399038012623, 5.794475295602498, 2.0458459572225913, 2.045821911144561, 1.385857399395967, 3.0994429421446514, 2.0457658589074965, 3.3659902345769064, 1.38585424853057, 1.3654718806993338, 2.7056801226447575, 1.3141785283124674, 1.3858275490922052, 2.8518446225404857, 1.6180068601231539, 1.9402085514043865, 3.3659865862064464, 2.045859555694305, 2.0458983610891956, 2.060082727931814, 2.472968149526679, 1.8004612034773955, 1.5658520777202236, 1.385966104252167, 1.4045185477401645, 6.76150077792413, 1.1932312703642465, 0.7357283184642083, 0.7357269993280664, 0.7357267665393356, 0.7357267665393356, 0.7357263785581173, 0.7357259129806555, 0.7357259905768991, 0.7357233523046155, 0.73572280913091, 0.73572280913091, 0.7357221883609609, 0.7357214123985246, 0.7357209468210628, 0.7357208692248192, 0.7357204812436009, 0.7357203260511137, 0.73572024845487, 0.73572024845487, 0.7357164462389318, 0.7357156702764954, 0.7357144287365973, 0.7357132647929427, 0.7357116352718264, 0.7357113248868518, 0.7357109369056336, 0.7357093849807609, 0.7357089194032991, 1.4045065979186446, 1.4045412058433064, 1.0589643949010317, 1.022814322493013, 2.28710955191592, 2.532217307273395, 5.329396920763595, 2.0733775272879833, 9.611319044825207, 6.373661716058815, 8.09348002922537, 6.723111122732268, 1.4066676533039275, 1.4045787624252266, 3.8574042489841363, 2.4540853391705952, 7.465018740462244, 2.0734034444333576, 2.073146445674433, 2.073448450254667, 0.9953309745367809, 1.6089809251032576, 1.4045711579933502, 2.1585204711958488, 1.4045796935801504, 1.219485028243811, 1.879691561048672, 2.039055156802584, 2.40289416608852, 2.0738289822334615, 1.6367189439311056, 1.4046099561151686, 1.5767264945107775, 1.4057728134223086, 1.40471346950418], \"Total\": [116.0, 41.0, 59.0, 51.0, 38.0, 11.0, 68.0, 72.0, 193.0, 15.0, 37.0, 150.0, 23.0, 37.0, 41.0, 100.0, 39.0, 21.0, 12.0, 61.0, 30.0, 13.0, 17.0, 10.0, 23.0, 26.0, 19.0, 12.0, 8.0, 14.0, 5.059170960381335, 2.5075174572285244, 2.5075160738277797, 2.507498003385081, 2.507496237149417, 2.507457372323507, 2.491966487824705, 3.254461898965571, 2.462720507403366, 4.10009260178839, 4.136931718867434, 2.4912807806159623, 2.451979825241229, 4.173665192602429, 14.218172651280728, 5.895928562246169, 1.6387950828456515, 1.6387949802822999, 1.638794955508269, 1.638794916441361, 1.6387950178744062, 1.6387949079654858, 1.6387949101705395, 1.6387947847485433, 1.638795052159859, 1.6387950475706745, 1.6387948833848263, 1.6387948252218303, 1.6387947047329632, 1.6387947916559464, 12.237638876851946, 39.40271691622788, 13.10594726482982, 3.2758943300718224, 3.275883350230625, 3.275883596781699, 193.95016374909292, 3.2934367665614697, 8.82438759802527, 3.36175929221902, 2.451693340202647, 3.3615853527162844, 10.430150475419895, 10.318440013689582, 12.30159932434492, 37.11007665709935, 72.34159020580442, 8.160858867902444, 12.57954473438606, 13.601602793539138, 7.28536507373308, 61.985106070041105, 23.161296649222404, 68.87422868045626, 34.49614355543344, 100.39202804037596, 38.06972516929947, 150.59432029750556, 116.15955665562167, 48.46032017663297, 18.52856979815228, 37.57737189385453, 21.61078882999798, 59.95275835262124, 15.499581227473032, 41.46319128025267, 26.945753572141875, 24.86134509951011, 22.183825444076614, 6.615390702593933, 15.501776674705983, 2.4782163835597566, 2.4782145025802604, 2.478212643562568, 2.4782101821672895, 2.4781885091933877, 4.092967646189307, 4.1712290715033715, 4.1857316520228975, 1.6241434536661992, 1.624143645737756, 1.6241435349875446, 1.6241435710959458, 1.6241434932485572, 1.6241435266572215, 1.624143431140833, 1.6241434442588458, 1.6241433920337853, 1.624143511183493, 1.6241433409505563, 1.6241434968829271, 1.6241435162849833, 1.624143373031468, 1.624143317315868, 1.6241434315972727, 1.6241432771026996, 1.6241432230733868, 1.6241431711373224, 1.6241432327728171, 3.1694570048701665, 11.583072901887743, 3.2389045118962563, 6.656170518095902, 13.983466855287155, 14.006562196793336, 4.99792573601756, 3.2756457736860303, 3.280023741409826, 10.594930714655503, 3.2757524555007818, 3.1270276094597196, 4.888110373002945, 11.373504637569203, 150.59432029750556, 3.2403120076637317, 48.46032017663297, 5.715545500996693, 10.567257669694877, 10.287887839299659, 30.00068678294047, 14.468186266120616, 100.39202804037596, 193.95016374909292, 24.86134509951011, 15.906193053893402, 37.57737189385453, 17.70145662389633, 18.51499404272698, 19.388483298530033, 15.651280465439937, 72.34159020580442, 9.818866140890604, 68.87422868045626, 39.40271691622788, 61.985106070041105, 41.46319128025267, 10.581467656157496, 41.27980321194175, 26.14065673315847, 22.183825444076614, 3.1608013183886348, 3.1629348676054345, 2.3638916543266113, 2.363890989301792, 2.3638886438161304, 2.3658380559505168, 4.718364857199099, 1.5669801930114273, 1.5669802717477184, 1.566980153822027, 1.5669800552808872, 1.5669801804066954, 1.5669801284333384, 1.5669801603149387, 1.5669799667343725, 1.5669800640085285, 1.5669799408643383, 1.5669800301436112, 1.5669799379284075, 1.5669800013718653, 1.566979868220678, 1.5669798789788643, 1.566979918221597, 1.5669799655636245, 1.5669800135070164, 1.5669799385595837, 1.5669798774257384, 1.566979846830124, 1.5669798367281305, 1.5669799447308277, 4.608493375020698, 3.0877390375778195, 3.093257944016105, 9.510486718090386, 3.1322652921919594, 4.883595119461813, 3.162342856207722, 12.869853025574074, 7.8138526055642625, 8.066927867109708, 72.34159020580442, 8.800088724595643, 68.87422868045626, 150.59432029750556, 3.8345578173085526, 10.245587390975485, 3.0329331317135386, 37.11007665709935, 3.956280641902803, 4.0508504122364, 10.9237966351124, 4.086684284022008, 19.46032056555688, 26.945753572141875, 193.95016374909292, 12.680048548724073, 6.618672759019722, 100.39202804037596, 48.46032017663297, 59.95275835262124, 15.651280465439937, 34.49614355543344, 21.61078882999798, 22.183825444076614, 9.189084804947761, 8.82438759802527, 41.46319128025267, 11.803939798795705, 26.14065673315847, 37.57737189385453, 17.70145662389633, 12.786675872872783, 2.3068179828929134, 2.306818212605639, 2.30681817980364, 2.306818655212838, 5.528394514945316, 2.328646792621436, 1.5384432054699029, 1.538443250006157, 1.5384433380862172, 1.538443347331123, 1.5384432117134568, 1.5384431925467643, 1.5384433084269453, 1.5384432012816676, 1.538443286924794, 1.5384431235710074, 1.5384430272046812, 1.5384432578744276, 1.5384432289457575, 1.53844332316008, 1.5384431732477863, 1.5384431479689573, 1.5384433132360193, 1.5384432548793892, 1.538443342602134, 1.5384432058414779, 1.5384433744879467, 1.5384431462949262, 1.5384434001415248, 1.5384431082728196, 116.15955665562167, 3.0787537849094893, 5.588537450849574, 2.346118574224731, 5.335050007520437, 7.864170726156623, 68.87422868045626, 4.6011736576375535, 3.639634681207098, 2.237008463186243, 3.7517324935670913, 17.51449257685204, 41.27980321194175, 193.95016374909292, 14.448599616414347, 61.985106070041105, 150.59432029750556, 8.52142315590196, 4.603009507394926, 9.112493519516347, 8.160858867902444, 3.888295696540081, 2.3005864491914894, 37.11007665709935, 100.39202804037596, 11.854356706219544, 72.34159020580442, 41.46319128025267, 38.06972516929947, 23.161296649222404, 12.131964425590546, 41.44802534447781, 37.57737189385453, 18.52856979815228, 14.587681553081346, 23.069046755889865, 24.86134509951011, 23.278348072661917, 51.30242260359435, 2.373709378253553, 2.3737090127256706, 2.3737089280374493, 2.373708186645879, 2.3737087227861284, 2.37370889677843, 3.9724389193077427, 7.191364840433694, 1.5718892148198893, 1.571889154369439, 1.5718892484299287, 1.5718890970443171, 1.5718890224052426, 1.571889087723698, 1.5718890597756408, 1.571889180953631, 1.571889037342662, 1.5718890535172034, 1.571889114167841, 1.5718890313007121, 1.5718891045320882, 1.5718890065936058, 1.5718890225240203, 1.571889045864037, 1.5718889370441238, 1.571888918283879, 1.571888990979566, 1.5718888555374797, 1.5718890162594599, 1.5718889438123336, 4.733133453091355, 3.1420830671593123, 3.14208332191513, 51.30242260359435, 2.333531750864855, 10.9237966351124, 4.818809588576221, 16.652395842415622, 3.0624492801794343, 11.854356706219544, 21.61078882999798, 19.388483298530033, 3.895096178632604, 26.14065673315847, 19.46032056555688, 34.49614355543344, 6.8916519470082065, 61.985106070041105, 150.59432029750556, 7.871760031059625, 11.763064221785433, 8.860583192072806, 17.51449257685204, 41.27980321194175, 38.06972516929947, 100.39202804037596, 17.75467560295691, 30.00068678294047, 193.95016374909292, 48.46032017663297, 10.581467656157496, 18.52856979815228, 12.786675872872783, 72.34159020580442, 59.95275835262124, 23.069046755889865, 68.87422868045626, 116.15955665562167, 41.46319128025267, 15.499581227473032, 3.0521494319049123, 41.44802534447781, 2.2914562047094265, 2.291456895221742, 3.853968127144047, 1.5307618286812694, 1.5307617356149852, 1.5307618464754826, 1.530761721653677, 1.5307618791433983, 1.5307617770941, 1.530762001358823, 1.5307618622688615, 1.5307620035731198, 1.5307618756824688, 1.5307618542980599, 1.5307617835731084, 1.5307619821955727, 1.5307619360307123, 1.5307618819775932, 1.5307619198864932, 1.5307618983191724, 1.5307620000071687, 1.5307619322615484, 1.5307618913084176, 1.5307618344246992, 1.5307618821176712, 1.5307620027728346, 1.530762057555156, 1.5307619660259453, 3.0883661120631496, 23.278348072661917, 10.741612974051213, 8.319144266303486, 8.31940340952835, 6.088754047642288, 3.9855677981722133, 17.75467560295691, 3.719788646985237, 3.7515838101138463, 61.985106070041105, 13.601602793539138, 3.895096178632604, 16.16605008066715, 3.9571360227455785, 3.9576110253161785, 51.30242260359435, 7.6251930807040535, 12.982868980203358, 18.732646915416407, 3.132622268291595, 3.883588859761579, 7.651057353896145, 4.7442594834893095, 41.27980321194175, 150.59432029750556, 37.57737189385453, 100.39202804037596, 193.95016374909292, 41.46319128025267, 11.854356706219544, 15.651280465439937, 48.46032017663297, 23.161296649222404, 26.945753572141875, 38.06972516929947, 18.51499404272698, 72.34159020580442, 59.95275835262124, 2.3587513389034336, 2.364741560965746, 1.567499232594337, 1.5674992320147396, 1.5674991208251026, 1.567499132913835, 1.5674991256853628, 1.5674990813259206, 1.5674991794253348, 1.5674990582604813, 1.5674991250860528, 1.5674990034717886, 1.5674990824324282, 1.5674990893395526, 1.5674989491058817, 1.5674990566875704, 1.5674990244299358, 1.5674991350754666, 1.5674991177140583, 1.5674989644483222, 1.5674988718939378, 1.5674988929316205, 1.5674988230571694, 1.5674988858036587, 1.5674988941726324, 1.5674989314948724, 1.5674988090176742, 1.5674987678774062, 1.5674988056738468, 1.5674989578496878, 3.088776724603169, 3.0860887497746257, 4.714986260167297, 3.218429440573642, 3.233655408453989, 59.95275835262124, 3.119814579320333, 3.1974477958322463, 12.680048548724073, 3.852111023867646, 41.46319128025267, 3.944352277559129, 18.732646915416407, 26.14065673315847, 4.071309134247135, 7.6251930807040535, 37.11007665709935, 2.3450530958568083, 4.572670055779508, 68.87422868045626, 16.16605008066715, 150.59432029750556, 22.183825444076614, 10.000533040308374, 193.95016374909292, 18.51499404272698, 5.322917419657188, 72.34159020580442, 51.30242260359435, 30.00068678294047, 100.39202804037596, 48.46032017663297, 11.230523465972068, 34.49614355543344, 61.985106070041105, 19.388483298530033, 23.161296649222404, 10.119232113788003, 39.40271691622788, 23.278348072661917, 19.46032056555688, 10.971802554209724, 1.493914271685078, 1.4939143022386698, 1.4939143025963588, 1.4939143648901319, 1.493914164979916, 1.4939144325856317, 1.4939144394097659, 1.4939142939257315, 1.4939146544876498, 1.4939146316139291, 1.4939145083979906, 1.4939145425298654, 1.493914706809527, 1.4939146437598998, 1.4939148204631156, 1.4939149235709586, 1.4939148101742987, 1.4939145460712087, 1.4939148624190173, 1.4939147524129899, 1.493914973210508, 1.4939149966334082, 1.4939149672459382, 1.49391501954865, 1.4939149381499264, 1.4939148201794066, 1.49391506244418, 1.4939149617038547, 1.493915179961003, 1.493915333066489, 2.978454127189736, 3.0151957811581527, 8.580517647930815, 38.06972516929947, 3.646088819900971, 100.39202804037596, 12.237638876851946, 30.00068678294047, 8.31940340952835, 41.27980321194175, 2.229947661555744, 37.57737189385453, 59.95275835262124, 4.608493375020698, 4.7089323366252795, 21.61078882999798, 3.886445071904238, 23.161296649222404, 11.763064221785433, 12.57954473438606, 34.49614355543344, 24.86134509951011, 16.093065664714594, 4.451565321043072, 10.000533040308374, 6.992748260289487, 9.522681034287725, 7.483474025293422, 6.086828286947909, 6.390523930714194, 26.14065673315847, 193.95016374909292, 61.985106070041105, 15.906193053893402, 18.732646915416407, 51.30242260359435, 150.59432029750556, 68.87422868045626, 41.46319128025267, 26.945753572141875, 22.183825444076614, 2.0899759481685787, 4.278611081798216, 3.510630378334573, 1.430020836765483, 1.4300210372298303, 1.430021087535936, 1.43002153196982, 1.4300217626295808, 1.4300219556375005, 1.4300220508746133, 1.4300222149893282, 1.430022178187148, 1.43002253454728, 1.430022535530354, 1.4300227466058673, 1.4300227890802464, 1.4300226949637647, 1.4300231332875843, 1.4300232079347603, 1.4300230539118235, 1.4300233318071593, 1.4300232333525507, 1.4300233067002044, 1.4300233711355423, 1.430023583430063, 1.4300236532172126, 1.430023859274913, 1.4300239134695996, 1.4300248518194738, 1.4300248173502608, 116.15955665562167, 6.7028879882276735, 23.069046755889865, 3.614920268475794, 3.655307097737345, 59.95275835262124, 14.587681553081346, 26.945753572141875, 12.098463645673064, 8.918407501891416, 9.112493519516347, 41.27980321194175, 5.218311329886677, 5.281286197686958, 100.39202804037596, 13.983466855287155, 14.006562196793336, 6.172206688652041, 39.40271691622788, 15.651280465439937, 51.30242260359435, 6.6530432345886155, 6.863430990936114, 38.06972516929947, 6.870625573593458, 8.319144266303486, 61.985106070041105, 12.982868980203358, 22.183825444076614, 150.59432029750556, 30.00068678294047, 41.46319128025267, 48.46032017663297, 193.95016374909292, 68.87422868045626, 19.388483298530033, 37.11007665709935, 2.107787604374205, 11.566067835971928, 2.1709288689182102, 1.4389236224531674, 1.4389238725286047, 1.4389237935171058, 1.4389238022120114, 1.4389239554830562, 1.4389238258021195, 1.4389240478717653, 1.4389243788677335, 1.4389243920164625, 1.438924572201762, 1.4389242850749775, 1.4389247560374416, 1.4389248565648298, 1.4389248502939513, 1.4389247546503996, 1.4389248296393584, 1.4389249295956907, 1.4389249663642492, 1.4389254529363082, 1.438925666252124, 1.4389257671456166, 1.4389261118429784, 1.4389263262787062, 1.438926208924431, 1.438926622963973, 1.4389268637421948, 1.4389269386956989, 2.8684835495518914, 2.9618580586930836, 2.2110562777574616, 2.2134914574985, 6.618672759019722, 9.858891694291911, 37.57737189385453, 8.381913277487032, 150.59432029750556, 72.34159020580442, 116.15955665562167, 100.39202804037596, 5.271033943488746, 5.266265956484158, 41.46319128025267, 17.70145662389633, 193.95016374909292, 13.983466855287155, 15.501776674705983, 16.093065664714594, 3.022927094716036, 10.287887839299659, 7.483474025293422, 23.278348072661917, 7.669072605728785, 5.397007099548889, 17.75467560295691, 23.069046755889865, 48.46032017663297, 51.30242260359435, 26.945753572141875, 14.006562196793336, 68.87422868045626, 59.95275835262124, 39.40271691622788], \"Category\": [\"Default\", \"Default\", \"Default\", \"Default\", \"Default\", \"Default\", \"Default\", \"Default\", \"Default\", \"Default\", \"Default\", \"Default\", \"Default\", \"Default\", \"Default\", \"Default\", \"Default\", \"Default\", \"Default\", \"Default\", \"Default\", \"Default\", \"Default\", \"Default\", \"Default\", \"Default\", \"Default\", \"Default\", \"Default\", \"Default\", \"Topic1\", \"Topic1\", \"Topic1\", \"Topic1\", \"Topic1\", \"Topic1\", \"Topic1\", \"Topic1\", \"Topic1\", \"Topic1\", \"Topic1\", \"Topic1\", \"Topic1\", \"Topic1\", \"Topic1\", \"Topic1\", \"Topic1\", \"Topic1\", \"Topic1\", \"Topic1\", \"Topic1\", \"Topic1\", \"Topic1\", \"Topic1\", \"Topic1\", \"Topic1\", \"Topic1\", \"Topic1\", \"Topic1\", \"Topic1\", \"Topic1\", \"Topic1\", \"Topic1\", \"Topic1\", \"Topic1\", \"Topic1\", \"Topic1\", \"Topic1\", \"Topic1\", \"Topic1\", \"Topic1\", \"Topic1\", \"Topic1\", \"Topic1\", \"Topic1\", \"Topic1\", \"Topic1\", \"Topic1\", \"Topic1\", \"Topic1\", \"Topic1\", \"Topic1\", \"Topic1\", \"Topic1\", \"Topic1\", \"Topic1\", \"Topic1\", \"Topic1\", \"Topic1\", \"Topic1\", \"Topic1\", \"Topic1\", \"Topic1\", \"Topic1\", \"Topic1\", \"Topic1\", \"Topic1\", \"Topic1\", \"Topic1\", \"Topic2\", \"Topic2\", \"Topic2\", \"Topic2\", \"Topic2\", \"Topic2\", \"Topic2\", \"Topic2\", \"Topic2\", \"Topic2\", \"Topic2\", \"Topic2\", \"Topic2\", \"Topic2\", \"Topic2\", \"Topic2\", \"Topic2\", \"Topic2\", \"Topic2\", \"Topic2\", \"Topic2\", \"Topic2\", \"Topic2\", \"Topic2\", \"Topic2\", \"Topic2\", \"Topic2\", \"Topic2\", \"Topic2\", \"Topic2\", \"Topic2\", \"Topic2\", \"Topic2\", \"Topic2\", \"Topic2\", \"Topic2\", \"Topic2\", \"Topic2\", \"Topic2\", \"Topic2\", \"Topic2\", \"Topic2\", \"Topic2\", \"Topic2\", \"Topic2\", \"Topic2\", \"Topic2\", \"Topic2\", \"Topic2\", \"Topic2\", \"Topic2\", \"Topic2\", \"Topic2\", \"Topic2\", \"Topic2\", \"Topic2\", \"Topic2\", \"Topic2\", \"Topic2\", \"Topic2\", \"Topic2\", \"Topic2\", \"Topic2\", \"Topic2\", \"Topic2\", \"Topic2\", \"Topic2\", \"Topic2\", \"Topic2\", \"Topic2\", \"Topic2\", \"Topic3\", \"Topic3\", \"Topic3\", \"Topic3\", \"Topic3\", \"Topic3\", \"Topic3\", \"Topic3\", \"Topic3\", \"Topic3\", \"Topic3\", \"Topic3\", \"Topic3\", \"Topic3\", \"Topic3\", \"Topic3\", \"Topic3\", \"Topic3\", \"Topic3\", \"Topic3\", \"Topic3\", \"Topic3\", \"Topic3\", \"Topic3\", \"Topic3\", \"Topic3\", \"Topic3\", \"Topic3\", \"Topic3\", \"Topic3\", \"Topic3\", \"Topic3\", \"Topic3\", \"Topic3\", \"Topic3\", \"Topic3\", \"Topic3\", \"Topic3\", \"Topic3\", \"Topic3\", \"Topic3\", \"Topic3\", \"Topic3\", \"Topic3\", \"Topic3\", \"Topic3\", \"Topic3\", \"Topic3\", \"Topic3\", \"Topic3\", \"Topic3\", \"Topic3\", \"Topic3\", \"Topic3\", \"Topic3\", \"Topic3\", \"Topic3\", \"Topic3\", \"Topic3\", \"Topic3\", \"Topic3\", \"Topic3\", \"Topic3\", \"Topic3\", \"Topic3\", \"Topic3\", \"Topic3\", \"Topic3\", \"Topic3\", \"Topic3\", \"Topic3\", \"Topic3\", \"Topic4\", \"Topic4\", \"Topic4\", \"Topic4\", \"Topic4\", \"Topic4\", \"Topic4\", \"Topic4\", \"Topic4\", \"Topic4\", \"Topic4\", \"Topic4\", \"Topic4\", \"Topic4\", \"Topic4\", \"Topic4\", \"Topic4\", \"Topic4\", \"Topic4\", \"Topic4\", \"Topic4\", \"Topic4\", \"Topic4\", \"Topic4\", \"Topic4\", \"Topic4\", \"Topic4\", \"Topic4\", \"Topic4\", \"Topic4\", \"Topic4\", \"Topic4\", \"Topic4\", \"Topic4\", \"Topic4\", \"Topic4\", \"Topic4\", \"Topic4\", \"Topic4\", \"Topic4\", \"Topic4\", \"Topic4\", \"Topic4\", \"Topic4\", \"Topic4\", \"Topic4\", \"Topic4\", \"Topic4\", \"Topic4\", \"Topic4\", \"Topic4\", \"Topic4\", \"Topic4\", \"Topic4\", \"Topic4\", \"Topic4\", \"Topic4\", \"Topic4\", \"Topic4\", \"Topic4\", \"Topic4\", \"Topic4\", \"Topic4\", \"Topic4\", \"Topic4\", \"Topic4\", \"Topic4\", \"Topic4\", \"Topic4\", \"Topic5\", \"Topic5\", \"Topic5\", \"Topic5\", \"Topic5\", \"Topic5\", \"Topic5\", \"Topic5\", \"Topic5\", \"Topic5\", \"Topic5\", \"Topic5\", \"Topic5\", \"Topic5\", \"Topic5\", \"Topic5\", \"Topic5\", \"Topic5\", \"Topic5\", \"Topic5\", \"Topic5\", \"Topic5\", \"Topic5\", \"Topic5\", \"Topic5\", \"Topic5\", \"Topic5\", \"Topic5\", \"Topic5\", \"Topic5\", \"Topic5\", \"Topic5\", \"Topic5\", \"Topic5\", \"Topic5\", \"Topic5\", \"Topic5\", \"Topic5\", \"Topic5\", \"Topic5\", \"Topic5\", \"Topic5\", \"Topic5\", \"Topic5\", \"Topic5\", \"Topic5\", \"Topic5\", \"Topic5\", \"Topic5\", \"Topic5\", \"Topic5\", \"Topic5\", \"Topic5\", \"Topic5\", \"Topic5\", \"Topic5\", \"Topic5\", \"Topic5\", \"Topic5\", \"Topic5\", \"Topic5\", \"Topic5\", \"Topic5\", \"Topic5\", \"Topic5\", \"Topic5\", \"Topic5\", \"Topic5\", \"Topic5\", \"Topic5\", \"Topic6\", \"Topic6\", \"Topic6\", \"Topic6\", \"Topic6\", \"Topic6\", \"Topic6\", \"Topic6\", \"Topic6\", \"Topic6\", \"Topic6\", \"Topic6\", \"Topic6\", \"Topic6\", \"Topic6\", \"Topic6\", \"Topic6\", \"Topic6\", \"Topic6\", \"Topic6\", \"Topic6\", \"Topic6\", \"Topic6\", \"Topic6\", \"Topic6\", \"Topic6\", \"Topic6\", \"Topic6\", \"Topic6\", \"Topic6\", \"Topic6\", \"Topic6\", \"Topic6\", \"Topic6\", \"Topic6\", \"Topic6\", \"Topic6\", \"Topic6\", \"Topic6\", \"Topic6\", \"Topic6\", \"Topic6\", \"Topic6\", \"Topic6\", \"Topic6\", \"Topic6\", \"Topic6\", \"Topic6\", \"Topic6\", \"Topic6\", \"Topic6\", \"Topic6\", \"Topic6\", \"Topic6\", \"Topic6\", \"Topic6\", \"Topic6\", \"Topic6\", \"Topic6\", \"Topic6\", \"Topic6\", \"Topic6\", \"Topic6\", \"Topic6\", \"Topic6\", \"Topic6\", \"Topic6\", \"Topic6\", \"Topic6\", \"Topic7\", \"Topic7\", \"Topic7\", \"Topic7\", \"Topic7\", \"Topic7\", \"Topic7\", \"Topic7\", \"Topic7\", \"Topic7\", \"Topic7\", \"Topic7\", \"Topic7\", \"Topic7\", \"Topic7\", \"Topic7\", \"Topic7\", \"Topic7\", \"Topic7\", \"Topic7\", \"Topic7\", \"Topic7\", \"Topic7\", \"Topic7\", \"Topic7\", \"Topic7\", \"Topic7\", \"Topic7\", \"Topic7\", \"Topic7\", \"Topic7\", \"Topic7\", \"Topic7\", \"Topic7\", \"Topic7\", \"Topic7\", \"Topic7\", \"Topic7\", \"Topic7\", \"Topic7\", \"Topic7\", \"Topic7\", \"Topic7\", \"Topic7\", \"Topic7\", \"Topic7\", \"Topic7\", \"Topic7\", \"Topic7\", \"Topic7\", \"Topic7\", \"Topic7\", \"Topic7\", \"Topic7\", \"Topic7\", \"Topic7\", \"Topic7\", \"Topic7\", \"Topic7\", \"Topic7\", \"Topic7\", \"Topic7\", \"Topic7\", \"Topic7\", \"Topic7\", \"Topic7\", \"Topic7\", \"Topic7\", \"Topic7\", \"Topic7\", \"Topic7\", \"Topic7\", \"Topic8\", \"Topic8\", \"Topic8\", \"Topic8\", \"Topic8\", \"Topic8\", \"Topic8\", \"Topic8\", \"Topic8\", \"Topic8\", \"Topic8\", \"Topic8\", \"Topic8\", \"Topic8\", \"Topic8\", \"Topic8\", \"Topic8\", \"Topic8\", \"Topic8\", \"Topic8\", \"Topic8\", \"Topic8\", \"Topic8\", \"Topic8\", \"Topic8\", \"Topic8\", \"Topic8\", \"Topic8\", \"Topic8\", \"Topic8\", \"Topic8\", \"Topic8\", \"Topic8\", \"Topic8\", \"Topic8\", \"Topic8\", \"Topic8\", \"Topic8\", \"Topic8\", \"Topic8\", \"Topic8\", \"Topic8\", \"Topic8\", \"Topic8\", \"Topic8\", \"Topic8\", \"Topic8\", \"Topic8\", \"Topic8\", \"Topic8\", \"Topic8\", \"Topic8\", \"Topic8\", \"Topic8\", \"Topic8\", \"Topic8\", \"Topic8\", \"Topic8\", \"Topic8\", \"Topic8\", \"Topic8\", \"Topic8\", \"Topic8\", \"Topic8\", \"Topic8\", \"Topic8\", \"Topic8\", \"Topic8\", \"Topic8\", \"Topic8\", \"Topic8\", \"Topic9\", \"Topic9\", \"Topic9\", \"Topic9\", \"Topic9\", \"Topic9\", \"Topic9\", \"Topic9\", \"Topic9\", \"Topic9\", \"Topic9\", \"Topic9\", \"Topic9\", \"Topic9\", \"Topic9\", \"Topic9\", \"Topic9\", \"Topic9\", \"Topic9\", \"Topic9\", \"Topic9\", \"Topic9\", \"Topic9\", \"Topic9\", \"Topic9\", \"Topic9\", \"Topic9\", \"Topic9\", \"Topic9\", \"Topic9\", \"Topic9\", \"Topic9\", \"Topic9\", \"Topic9\", \"Topic9\", \"Topic9\", \"Topic9\", \"Topic9\", \"Topic9\", \"Topic9\", \"Topic9\", \"Topic9\", \"Topic9\", \"Topic9\", \"Topic9\", \"Topic9\", \"Topic9\", \"Topic9\", \"Topic9\", \"Topic9\", \"Topic9\", \"Topic9\", \"Topic9\", \"Topic9\", \"Topic9\", \"Topic9\", \"Topic9\", \"Topic9\", \"Topic9\", \"Topic9\", \"Topic9\", \"Topic9\", \"Topic9\", \"Topic9\", \"Topic9\", \"Topic9\", \"Topic9\", \"Topic10\", \"Topic10\", \"Topic10\", \"Topic10\", \"Topic10\", \"Topic10\", \"Topic10\", \"Topic10\", \"Topic10\", \"Topic10\", \"Topic10\", \"Topic10\", \"Topic10\", \"Topic10\", \"Topic10\", \"Topic10\", \"Topic10\", \"Topic10\", \"Topic10\", \"Topic10\", \"Topic10\", \"Topic10\", \"Topic10\", \"Topic10\", \"Topic10\", \"Topic10\", \"Topic10\", \"Topic10\", \"Topic10\", \"Topic10\", \"Topic10\", \"Topic10\", \"Topic10\", \"Topic10\", \"Topic10\", \"Topic10\", \"Topic10\", \"Topic10\", \"Topic10\", \"Topic10\", \"Topic10\", \"Topic10\", \"Topic10\", \"Topic10\", \"Topic10\", \"Topic10\", \"Topic10\", \"Topic10\", \"Topic10\", \"Topic10\", \"Topic10\", \"Topic10\", \"Topic10\", \"Topic10\", \"Topic10\", \"Topic10\", \"Topic10\", \"Topic10\", \"Topic10\", \"Topic10\", \"Topic10\", \"Topic10\", \"Topic10\", \"Topic10\", \"Topic10\"], \"logprob\": [30.0, 29.0, 28.0, 27.0, 26.0, 25.0, 24.0, 23.0, 22.0, 21.0, 20.0, 19.0, 18.0, 17.0, 16.0, 15.0, 14.0, 13.0, 12.0, 11.0, 10.0, 9.0, 8.0, 7.0, 6.0, 5.0, 4.0, 3.0, 2.0, 1.0, -5.5039, -6.2708, -6.2708, -6.2709, -6.2709, -6.271, -6.3474, -6.1002, -6.3836, -5.8813, -5.8813, -6.3936, -6.4127, -5.8813, -4.7052, -5.6017, -6.9174, -6.9174, -6.9174, -6.9174, -6.9174, -6.9174, -6.9174, -6.9174, -6.9174, -6.9174, -6.9174, -6.9174, -6.9174, -6.9174, -4.921, -3.7924, -4.9208, -6.2708, -6.2708, -6.2708, -2.4814, -6.2708, -5.3835, -6.265, -6.5532, -6.2708, -5.2537, -5.3034, -5.2044, -4.3435, -3.8175, -5.5624, -5.2512, -5.2038, -5.6725, -4.1071, -4.828, -4.1515, -4.623, -3.97, -4.7128, -3.9433, -4.2011, -4.7002, -5.2105, -4.8816, -5.1481, -4.7117, -5.3801, -5.0265, -5.2017, -5.3569, -5.3835, -5.0018, -4.2092, -6.1132, -6.1132, -6.1132, -6.1132, -6.1133, -5.7238, -5.7237, -5.7237, -6.7598, -6.7598, -6.7598, -6.7598, -6.7598, -6.7598, -6.7598, -6.7598, -6.7598, -6.7598, -6.7598, -6.7598, -6.7598, -6.7598, -6.7598, -6.7598, -6.7598, -6.7598, -6.7598, -6.7598, -6.1132, -4.8951, -6.1132, -5.4441, -4.7633, -4.7633, -5.7237, -6.1132, -6.1132, -5.0469, -6.1166, -6.1718, -5.777, -5.0606, -2.9308, -6.1777, -3.9199, -5.7237, -5.2259, -5.2664, -4.4735, -5.0353, -3.7402, -3.3137, -4.7326, -5.0468, -4.4889, -4.9786, -5.0469, -5.1052, -5.2259, -4.5707, -5.483, -4.6755, -5.0027, -4.877, -5.0836, -5.4908, -5.2276, -5.3284, -5.4058, -5.4763, -5.4859, -5.8657, -5.8658, -5.8658, -5.8787, -5.197, -6.5124, -6.5124, -6.5124, -6.5124, -6.5124, -6.5124, -6.5124, -6.5124, -6.5124, -6.5124, -6.5124, -6.5124, -6.5124, -6.5124, -6.5124, -6.5124, -6.5124, -6.5124, -6.5124, -6.5124, -6.5124, -6.5124, -6.5124, -5.4763, -5.8658, -5.8657, -4.7994, -5.8658, -5.4763, -5.8725, -4.6476, -5.1991, -5.1967, -3.5448, -5.1967, -3.7205, -3.2216, -5.866, -5.1967, -6.0492, -4.3137, -5.8658, -5.8658, -5.1967, -5.8657, -4.8599, -4.65, -3.4236, -5.1969, -5.5851, -4.1306, -4.6773, -4.6475, -5.2067, -4.9865, -5.1967, -5.1967, -5.4808, -5.5172, -5.1443, -5.4763, -5.4529, -5.4762, -5.4763, -5.4763, -5.8452, -5.8452, -5.8453, -5.8453, -5.0849, -5.9909, -6.4919, -6.4919, -6.4919, -6.4919, -6.4919, -6.4919, -6.4919, -6.4919, -6.4919, -6.4919, -6.4919, -6.4919, -6.4919, -6.4919, -6.4919, -6.4919, -6.4919, -6.4919, -6.4919, -6.4919, -6.4919, -6.4919, -6.4919, -6.4919, -2.2755, -5.8672, -5.4583, -6.1527, -5.5179, -5.2158, -3.5333, -5.6659, -5.8453, -6.2114, -5.8453, -4.7789, -4.1802, -3.1866, -5.084, -4.2031, -3.6941, -5.4558, -5.8452, -5.4558, -5.5353, -5.9648, -6.2636, -4.749, -4.2491, -5.3936, -4.5197, -4.93, -4.9742, -5.2117, -5.4558, -5.176, -5.2311, -5.4558, -5.5159, -5.4558, -5.4558, -5.4792, -5.4556, -5.7712, -5.7712, -5.7712, -5.7712, -5.7712, -5.7712, -5.3817, -4.8839, -6.4178, -6.4178, -6.4178, -6.4178, -6.4178, -6.4178, -6.4178, -6.4178, -6.4178, -6.4178, -6.4178, -6.4178, -6.4178, -6.4178, -6.4178, -6.4178, -6.4178, -6.4178, -6.4178, -6.4178, -6.4178, -6.4178, -5.3817, -5.7712, -5.7712, -3.2062, -6.0527, -4.7287, -5.444, -4.4431, -5.9056, -4.9237, -4.5074, -4.5922, -5.7712, -4.4214, -4.7272, -4.3501, -5.4424, -4.1166, -3.622, -5.4246, -5.2133, -5.3817, -4.993, -4.553, -4.6962, -4.3035, -5.1021, -4.9238, -4.2822, -4.9318, -5.3817, -5.2551, -5.3817, -5.0304, -5.1019, -5.2736, -5.2133, -5.3802, -5.3816, -5.3817, -5.3926, -2.7842, -5.7821, -5.7821, -5.3926, -6.4287, -6.4287, -6.4287, -6.4287, -6.4287, -6.4287, -6.4287, -6.4287, -6.4287, -6.4287, -6.4287, -6.4287, -6.4287, -6.4287, -6.4287, -6.4287, -6.4287, -6.4287, -6.4287, -6.4287, -6.4287, -6.4287, -6.4287, -6.4287, -6.4287, -5.7821, -4.1963, -4.8948, -5.113, -5.1131, -5.3926, -5.7153, -4.6367, -5.7821, -5.7821, -3.7854, -4.8956, -5.7821, -4.8079, -5.7821, -5.7821, -4.1225, -5.3926, -5.113, -4.8948, -5.9963, -5.8786, -5.4876, -5.7821, -4.564, -3.8835, -4.6887, -4.3105, -4.0982, -4.8948, -5.3927, -5.3926, -5.113, -5.3098, -5.3927, -5.343, -5.4712, -5.3499, -5.3921, -5.7653, -5.9127, -6.3712, -6.3712, -6.3712, -6.3712, -6.3712, -6.3712, -6.3712, -6.3712, -6.3712, -6.3712, -6.3712, -6.3712, -6.3712, -6.3712, -6.3712, -6.3712, -6.3712, -6.3712, -6.3712, -6.3712, -6.3712, -6.3712, -6.3712, -6.3712, -6.3712, -6.3712, -6.3712, -6.3712, -5.7246, -5.7421, -5.3794, -5.7246, -5.7245, -3.1309, -5.7629, -5.7531, -4.8374, -5.7246, -4.0628, -5.7246, -4.6582, -4.5064, -5.7423, -5.3476, -4.3792, -6.1187, -5.7246, -4.2163, -5.0556, -3.8253, -4.8909, -5.3351, -3.8005, -5.0556, -5.7245, -4.3746, -4.6025, -4.991, -4.5432, -4.8372, -5.4099, -5.0555, -5.0554, -5.3351, -5.3351, -5.5106, -5.335, -5.4166, -5.4503, -5.5832, -6.1602, -6.1602, -6.1602, -6.1602, -6.1602, -6.1602, -6.1602, -6.1602, -6.1602, -6.1602, -6.1602, -6.1602, -6.1602, -6.1602, -6.1602, -6.1602, -6.1602, -6.1602, -6.1602, -6.1602, -6.1602, -6.1602, -6.1602, -6.1602, -6.1602, -6.1602, -6.1602, -6.1602, -6.1602, -6.1602, -5.5136, -5.5136, -4.6827, -3.5409, -5.5136, -3.3483, -4.8448, -4.3346, -5.1242, -4.1637, -5.9176, -4.2954, -4.0473, -5.5136, -5.5136, -4.6934, -5.6352, -4.7598, -5.1239, -5.1241, -4.6502, -4.8322, -5.1028, -5.6736, -5.3209, -5.4963, -5.3702, -5.5136, -5.598, -5.5835, -5.1042, -4.5386, -5.0038, -5.3571, -5.3597, -5.3201, -5.2542, -5.4709, -5.4964, -5.5134, -5.5135, -5.549, -4.8799, -5.1595, -6.1956, -6.1956, -6.1956, -6.1956, -6.1956, -6.1956, -6.1956, -6.1956, -6.1956, -6.1956, -6.1956, -6.1956, -6.1956, -6.1956, -6.1956, -6.1956, -6.1956, -6.1956, -6.1956, -6.1956, -6.1956, -6.1956, -6.1956, -6.1956, -6.1956, -6.1956, -6.1956, -2.4391, -4.8799, -3.947, -5.549, -5.5491, -3.652, -4.6863, -4.3677, -4.8799, -5.1596, -5.1595, -4.3308, -5.549, -5.549, -4.1184, -5.1595, -5.1595, -5.549, -4.7441, -5.1595, -4.6616, -5.549, -5.5638, -4.8799, -5.6021, -5.549, -4.8273, -5.3941, -5.2125, -4.6616, -5.1595, -5.1595, -5.1525, -4.9699, -5.2872, -5.4269, -5.5489, -5.4693, -3.8977, -5.6323, -6.1159, -6.1159, -6.1159, -6.1159, -6.1159, -6.1159, -6.1159, -6.1159, -6.1159, -6.1159, -6.1159, -6.1159, -6.1159, -6.1159, -6.1159, -6.1159, -6.1159, -6.1159, -6.1159, -6.1159, -6.1159, -6.1159, -6.1159, -6.1159, -6.1159, -6.1159, -6.1159, -5.4693, -5.4693, -5.7517, -5.7864, -4.9817, -4.8799, -4.1357, -5.0798, -3.546, -3.9568, -3.7179, -3.9034, -5.4677, -5.4692, -4.459, -4.9112, -3.7987, -5.0798, -5.0799, -5.0797, -5.8136, -5.3334, -5.4692, -5.0395, -5.4692, -5.6105, -5.1779, -5.0965, -4.9323, -5.0796, -5.3163, -5.4692, -5.3536, -5.4684, -5.4691], \"loglift\": [30.0, 29.0, 28.0, 27.0, 26.0, 25.0, 24.0, 23.0, 22.0, 21.0, 20.0, 19.0, 18.0, 17.0, 16.0, 15.0, 14.0, 13.0, 12.0, 11.0, 10.0, 9.0, 8.0, 7.0, 6.0, 5.0, 4.0, 3.0, 2.0, 1.0, 1.4984, 1.4335, 1.4335, 1.4334, 1.4334, 1.4332, 1.363, 1.3433, 1.3386, 1.3312, 1.3223, 1.3171, 1.3139, 1.3134, 1.2638, 1.2475, 1.2122, 1.2122, 1.2122, 1.2122, 1.2122, 1.2122, 1.2122, 1.2122, 1.2122, 1.2122, 1.2122, 1.2122, 1.2122, 1.2122, 1.1981, 1.1573, 1.1296, 1.1662, 1.1661, 1.1661, 0.8746, 1.1608, 1.0625, 1.1461, 1.1735, 1.1403, 1.0251, 0.9862, 0.9094, 0.6661, 0.5247, 0.9618, 0.8403, 0.8095, 0.9652, 0.3896, 0.6531, 0.2398, 0.4597, 0.0444, 0.2713, -0.3343, -0.3326, 0.0426, 0.4937, 0.1155, 0.4023, -0.1817, 0.5026, -0.1277, 0.128, 0.0534, 0.1407, 1.7323, 1.6734, 1.6028, 1.6028, 1.6028, 1.6028, 1.6027, 1.4905, 1.4716, 1.4682, 1.3788, 1.3788, 1.3788, 1.3788, 1.3788, 1.3788, 1.3788, 1.3788, 1.3788, 1.3788, 1.3788, 1.3788, 1.3788, 1.3788, 1.3788, 1.3788, 1.3788, 1.3788, 1.3788, 1.3788, 1.3568, 1.2789, 1.3351, 1.2839, 1.2224, 1.2208, 1.2908, 1.3239, 1.3225, 1.2163, 1.3204, 1.3117, 1.2598, 1.1316, 0.6781, 1.2702, 0.8229, 1.1566, 1.0399, 1.0261, 0.7488, 0.9163, 0.2743, 0.0423, 0.6777, 0.81, 0.5083, 0.7713, 0.6581, 0.5537, 0.6471, -0.2285, 0.8563, -0.2842, -0.053, -0.3803, -0.1848, 0.7736, -0.3245, 0.0316, 0.1184, 1.9964, 1.9861, 1.8975, 1.8975, 1.8974, 1.8837, 1.8751, 1.662, 1.662, 1.662, 1.662, 1.662, 1.662, 1.662, 1.662, 1.662, 1.662, 1.662, 1.662, 1.662, 1.662, 1.662, 1.662, 1.662, 1.662, 1.662, 1.662, 1.662, 1.662, 1.662, 1.6193, 1.6303, 1.6286, 1.5717, 1.616, 1.5614, 1.5997, 1.421, 1.3685, 1.339, 0.7974, 1.2521, 0.6708, 0.3873, 1.4135, 1.1, 1.4648, 0.696, 1.3824, 1.3588, 1.0359, 1.3501, 0.7953, 0.6797, -0.0677, 0.8866, 1.1485, -0.1161, 0.0655, -0.1175, 0.6662, 0.0962, 0.3536, 0.3275, 0.9247, 0.9288, -0.2455, 0.6788, -0.0928, -0.4791, 0.2736, 0.5989, 1.9424, 1.9424, 1.9424, 1.9424, 1.8288, 1.7873, 1.7009, 1.7009, 1.7009, 1.7009, 1.7009, 1.7009, 1.7009, 1.7009, 1.7009, 1.7009, 1.7009, 1.7009, 1.7009, 1.7009, 1.7009, 1.7009, 1.7009, 1.7009, 1.7009, 1.7009, 1.7009, 1.7009, 1.7009, 1.7009, 1.593, 1.6319, 1.4446, 1.618, 1.4313, 1.3454, 0.8579, 1.4313, 1.4864, 1.607, 1.456, 0.9816, 0.7229, 0.1694, 0.869, 0.2935, -0.0851, 1.0251, 1.2516, 0.9581, 0.9889, 1.3007, 1.5267, 0.2607, -0.2347, 0.7572, -0.1776, -0.0313, 0.0099, 0.2694, 0.6719, -0.2769, -0.234, 0.2484, 0.4274, 0.0293, -0.0455, -0.0032, -0.7698, 1.9879, 1.9879, 1.9879, 1.9879, 1.9879, 1.9879, 1.8624, 1.7668, 1.7535, 1.7535, 1.7535, 1.7535, 1.7535, 1.7535, 1.7535, 1.7535, 1.7535, 1.7535, 1.7535, 1.7535, 1.7535, 1.7535, 1.7535, 1.7535, 1.7535, 1.7535, 1.7535, 1.7535, 1.7535, 1.7535, 1.6872, 1.7075, 1.7075, 1.4796, 1.7234, 1.5039, 1.607, 1.3679, 1.5988, 1.2271, 1.0429, 1.0667, 1.4927, 0.9387, 0.928, 0.7326, 1.2508, 0.3801, -0.013, 1.1357, 0.9453, 1.0602, 0.7675, 0.3502, 0.2879, -0.2891, 0.6448, 0.2986, -0.9263, -0.1891, 0.8827, 0.4491, 0.6934, -0.6883, -0.5719, 0.2115, -0.8221, -1.5116, -0.4829, 0.501, 2.115, 2.1149, 2.0122, 2.0122, 1.8818, 1.7691, 1.7691, 1.7691, 1.7691, 1.7691, 1.7691, 1.7691, 1.7691, 1.7691, 1.7691, 1.7691, 1.7691, 1.7691, 1.7691, 1.7691, 1.7691, 1.7691, 1.7691, 1.7691, 1.7691, 1.7691, 1.769, 1.769, 1.769, 1.769, 1.7138, 1.2797, 1.3546, 1.3919, 1.3919, 1.4245, 1.5255, 1.1101, 1.5278, 1.5193, 0.7113, 1.1178, 1.4817, 1.0327, 1.4659, 1.4658, 0.5633, 1.1995, 0.9469, 0.7985, 1.4854, 1.3882, 1.1011, 1.2845, 0.3392, -0.2746, 0.3084, -0.296, -0.7423, 0.0039, 0.7582, 0.4804, -0.3702, 0.1713, -0.063, -0.3589, 0.2337, -1.0077, -0.8622, 2.0001, 1.8501, 1.8029, 1.8029, 1.8029, 1.8029, 1.8029, 1.8029, 1.8029, 1.8029, 1.8029, 1.8029, 1.8029, 1.8029, 1.8029, 1.8029, 1.8029, 1.8029, 1.8029, 1.8029, 1.8029, 1.8029, 1.8029, 1.8029, 1.8029, 1.8029, 1.8029, 1.8029, 1.8029, 1.8029, 1.7711, 1.7545, 1.6934, 1.7301, 1.7254, 1.3991, 1.7229, 1.708, 1.2461, 1.5504, 0.8359, 1.5267, 1.0351, 0.8536, 1.4773, 1.2445, 0.6305, 1.6525, 1.3789, 0.175, 0.785, -0.2163, 0.6333, 0.9858, -0.4445, 0.6493, 1.227, -0.0325, 0.0833, 0.2314, -0.5288, -0.0945, 0.795, 0.0272, -0.5588, 0.3238, 0.146, 0.7985, -0.3853, 0.0594, 0.2048, 0.645, 2.0619, 2.0619, 2.0619, 2.0619, 2.0619, 2.0619, 2.0619, 2.0619, 2.0619, 2.0619, 2.0619, 2.0619, 2.0619, 2.0619, 2.0619, 2.0619, 2.0619, 2.0619, 2.0619, 2.0619, 2.0619, 2.0619, 2.0619, 2.0619, 2.0619, 2.0619, 2.0619, 2.0619, 2.0619, 2.0619, 2.0185, 2.0062, 1.7913, 1.4432, 1.8163, 0.6662, 1.2742, 0.8877, 1.3808, 0.7395, 1.9039, 0.7017, 0.4827, 1.582, 1.5604, 0.8569, 1.6308, 0.7213, 1.0346, 0.9673, 0.4325, 0.578, 0.7423, 1.4567, 1.0, 1.1824, 0.9996, 1.0973, 1.2194, 1.1852, 0.2558, -1.1827, -0.5071, 0.4998, 0.3336, -0.6344, -1.6453, -1.0797, -0.5976, -0.1837, 0.0106, 2.3374, 2.29, 2.2082, 2.0703, 2.0703, 2.0703, 2.0703, 2.0703, 2.0703, 2.0703, 2.0703, 2.0703, 2.0702, 2.0702, 2.0702, 2.0702, 2.0702, 2.0702, 2.0702, 2.0702, 2.0702, 2.0702, 2.0702, 2.0702, 2.0702, 2.0702, 2.0702, 2.0702, 2.0702, 2.0702, 1.4295, 1.8411, 1.5381, 1.7895, 1.7782, 0.878, 1.2571, 0.962, 1.2505, 1.2758, 1.2544, 0.5724, 1.4223, 1.4104, -0.1039, 0.8262, 0.8245, 1.2545, 0.2056, 0.7135, 0.0242, 1.1795, 1.1335, 0.1042, 1.0942, 0.956, -0.3307, 0.6658, 0.3117, -1.0526, 0.0628, -0.2607, -0.4098, -1.6139, -0.896, 0.232, -0.5392, 2.4086, 2.2777, 2.2161, 2.1438, 2.1438, 2.1438, 2.1438, 2.1438, 2.1438, 2.1438, 2.1438, 2.1438, 2.1438, 2.1438, 2.1438, 2.1438, 2.1438, 2.1438, 2.1438, 2.1438, 2.1438, 2.1438, 2.1438, 2.1438, 2.1438, 2.1438, 2.1438, 2.1438, 2.1438, 2.1438, 2.1005, 2.0685, 2.0784, 2.0426, 1.752, 1.4553, 0.8614, 1.4177, 0.0629, 0.3853, 0.1507, 0.111, 1.4936, 1.493, 0.4398, 0.8387, -0.4428, 0.9059, 0.8027, 0.7654, 1.7037, 0.9592, 1.1416, 0.4365, 1.1171, 1.3272, 0.569, 0.3886, -0.1895, -0.3938, 0.0134, 0.5148, -0.9624, -0.9384, -0.5194]}, \"token.table\": {\"Topic\": [7, 2, 7, 6, 1, 6, 3, 4, 7, 8, 10, 2, 9, 10, 1, 2, 3, 4, 5, 6, 7, 8, 9, 1, 7, 9, 3, 3, 3, 1, 2, 3, 4, 6, 8, 9, 10, 5, 6, 7, 1, 2, 3, 5, 6, 8, 7, 1, 2, 3, 4, 5, 7, 1, 4, 7, 8, 10, 7, 8, 6, 3, 8, 1, 3, 5, 7, 8, 2, 8, 7, 1, 4, 1, 2, 3, 4, 7, 9, 10, 2, 3, 5, 6, 7, 5, 3, 5, 6, 9, 9, 10, 9, 3, 2, 5, 7, 4, 5, 7, 9, 9, 1, 4, 1, 8, 2, 5, 6, 7, 2, 7, 2, 10, 5, 1, 6, 3, 2, 3, 4, 5, 8, 9, 10, 2, 3, 6, 8, 2, 3, 4, 7, 9, 4, 10, 2, 7, 1, 4, 10, 1, 2, 5, 8, 9, 10, 6, 4, 5, 2, 3, 5, 6, 7, 1, 2, 3, 7, 5, 1, 2, 3, 5, 10, 2, 10, 3, 5, 10, 10, 6, 6, 7, 1, 2, 4, 5, 7, 8, 9, 5, 1, 2, 3, 4, 5, 6, 7, 9, 10, 1, 2, 4, 5, 9, 10, 7, 8, 1, 2, 5, 6, 7, 9, 10, 2, 3, 5, 6, 7, 10, 2, 5, 8, 10, 10, 5, 1, 4, 5, 7, 8, 3, 10, 6, 7, 6, 10, 6, 4, 8, 2, 9, 4, 1, 2, 5, 8, 1, 2, 3, 5, 6, 9, 8, 2, 1, 1, 3, 4, 5, 6, 5, 1, 2, 3, 4, 5, 7, 9, 10, 7, 1, 3, 4, 5, 6, 7, 4, 5, 1, 2, 3, 5, 6, 8, 6, 6, 4, 9, 2, 1, 6, 7, 5, 2, 8, 2, 4, 5, 3, 2, 6, 9, 1, 2, 3, 4, 5, 6, 8, 10, 6, 6, 9, 3, 3, 1, 6, 1, 6, 1, 2, 3, 9, 4, 6, 7, 8, 3, 10, 10, 1, 1, 3, 4, 8, 4, 6, 9, 4, 6, 9, 4, 7, 1, 3, 6, 8, 9, 1, 2, 3, 4, 5, 6, 7, 9, 1, 3, 4, 5, 6, 7, 8, 9, 10, 5, 1, 2, 3, 4, 5, 7, 8, 9, 10, 5, 4, 3, 6, 10, 7, 10, 4, 6, 7, 9, 10, 4, 1, 6, 8, 7, 8, 3, 7, 8, 9, 1, 2, 3, 4, 5, 6, 7, 8, 9, 10, 2, 6, 3, 8, 1, 2, 3, 8, 9, 8, 6, 9, 3, 3, 1, 6, 3, 4, 5, 8, 10, 3, 1, 4, 5, 10, 2, 1, 4, 6, 10, 2, 2, 3, 5, 10, 3, 1, 2, 3, 5, 6, 8, 9, 10, 3, 4, 7, 8, 10, 1, 3, 9, 2, 6, 2, 7, 10, 1, 2, 3, 4, 5, 6, 7, 8, 9, 10, 9, 4, 5, 6, 7, 9, 2, 5, 6, 8, 9, 10, 1, 9, 4, 3, 5, 4, 1, 2, 3, 5, 7, 10, 3, 2, 3, 6, 7, 2, 3, 4, 5, 6, 8, 9, 2, 1, 3, 5, 6, 7, 9, 2, 9, 7, 8, 5, 1, 2, 3, 4, 5, 6, 7, 8, 9, 10, 3, 7, 1, 2, 3, 4, 5, 6, 7, 8, 9, 10, 9, 9, 3, 3, 2, 6, 1, 2, 3, 4, 5, 6, 7, 8, 9, 10, 10, 7, 1, 10, 7, 3, 4, 1, 3, 6, 8, 9, 1, 2, 3, 4, 6, 8, 10, 1, 10, 7, 5, 1, 2, 3, 4, 5, 6, 7, 8, 9, 1, 3, 5, 8, 9, 4, 8, 1, 3, 4, 5, 8, 9, 10, 6, 5, 1, 2, 3, 4, 5, 6, 7, 5, 1, 2, 4, 8, 1, 2, 3, 4, 5, 6, 8, 9, 1, 2, 3, 4, 5, 6, 7, 10, 1, 4, 9, 1, 2, 4, 5, 7, 1, 3, 4, 5, 6, 7, 8, 9, 10, 1, 3, 4, 6, 7, 10, 1, 2, 3, 4, 5, 6, 8, 9, 10, 8, 1, 2, 3, 4, 5, 6, 7, 8, 9, 10, 2, 3, 4, 5, 7, 10, 9, 2, 4, 6, 7, 7, 8, 4, 5, 6, 1, 2, 3, 2, 5, 7, 6, 5, 2, 3, 5, 7, 8, 9, 10, 8, 4, 1, 3, 6, 1, 2, 4, 1, 3, 5, 7, 3, 4, 8, 10, 9, 8, 3, 7, 2, 1, 7, 5, 8, 8, 1, 4, 5, 6, 7, 8, 1, 2, 4, 6, 7, 8, 9, 5, 1, 2, 1, 2, 3, 4, 5, 6, 1, 2, 4, 10, 7, 1, 2, 4, 5, 8, 3, 6, 7, 8, 9, 2, 3, 5, 5, 4, 3, 6, 1, 3, 9, 7, 8, 1, 1, 4, 1, 2, 4, 8, 1, 4, 5, 6, 7, 9, 10, 1, 3, 5, 6, 7, 8, 9, 10, 2, 2, 5, 6, 7, 1, 2, 3, 4, 5, 6, 7, 9, 10, 1, 2, 7, 1, 5, 6, 8, 9, 10, 2, 9, 4, 7, 1, 3, 4, 5, 6, 7, 9, 8, 1, 2, 5, 6, 7, 9, 10, 4, 10, 2, 1, 2, 3, 4, 5, 8, 9, 10, 4, 7, 4, 7, 8, 1, 2, 3, 4, 5, 8, 9, 10, 2, 3, 4, 6, 7, 9, 10, 1, 2, 10, 2, 4, 7, 1, 4, 10, 10, 4, 8, 9, 6, 8, 2, 3, 7, 8, 10, 7, 2, 3, 5, 7, 1, 2, 3, 7, 10, 8, 1, 2, 6, 3, 4, 9, 6, 9, 6, 6, 1, 3, 4, 5, 6, 9, 3, 5, 6, 9, 2, 3, 4, 5, 6, 8, 9, 10, 5, 2, 2, 1, 4, 4, 7, 10, 1, 2, 7, 1, 1, 2, 3, 4, 5, 9, 10, 1, 2, 3, 4, 5, 6, 7, 8, 9, 4, 9, 3, 1, 2, 5, 7, 8, 10, 8, 2, 1, 2, 3, 5, 6, 7, 8, 9, 10, 2, 1, 2, 3, 4, 5, 6, 7, 8, 9, 10, 4, 5, 3, 5, 5, 6, 6, 2, 5, 1, 2, 3, 5, 8, 9, 6, 7, 10, 1, 3, 5, 9, 10, 7, 4, 4, 4, 5, 8, 9, 1, 2, 3, 5, 6, 7, 8, 9, 10, 2, 5, 10, 8, 2, 3, 8, 4, 5, 2, 4, 5, 6, 7, 9, 10, 1, 3, 4, 5, 10, 8, 1, 2, 9, 9, 1, 2, 3, 5, 7, 9, 3, 5, 6, 1, 2, 3, 5, 6, 7, 10, 1, 2, 3, 4, 5, 7, 8, 9, 10, 10, 5, 3, 4, 2, 10, 8, 5, 8, 10, 1, 3, 6, 7, 8, 9, 10, 3, 1, 3, 5, 6, 7, 8, 3, 7, 1, 6, 7, 8, 10, 1, 2, 1, 7, 8, 10, 9, 1, 4, 2, 3, 6, 7, 9, 2, 3, 5, 7, 9, 10, 8, 4, 1, 9, 1, 8, 6, 8, 8, 7, 3, 4, 7, 8, 2, 6, 1, 2, 3, 4, 5, 6, 7, 8, 9, 10, 9, 1, 2, 4, 6, 7, 8, 9, 10, 5, 6, 8, 10, 1, 7, 1, 4, 6, 7, 8, 9, 1, 2, 3, 4, 6, 7, 8, 9, 5, 4, 10, 10, 4, 3, 2, 4, 5, 6, 7, 9, 1, 1, 9, 4, 7, 1, 2, 3, 4, 5, 6, 8, 1, 2, 4, 6, 7, 8, 9, 3, 10, 1, 1, 2, 3, 4, 5, 6, 8, 9, 10, 10, 1, 2, 3, 1, 5, 1, 3, 5, 9, 6, 2, 10, 6, 1, 7, 8, 1, 2, 3, 6, 7, 8, 10, 3, 4, 3, 1, 2, 3, 4, 5, 6, 7, 8, 9, 10, 7, 1, 2, 3, 4, 5, 6, 7, 8, 10, 5, 7, 1, 2, 6, 7, 9, 10, 1, 2, 3, 4, 5, 6, 7, 10, 8, 6, 3, 8], \"Freq\": [0.6379588450227945, 0.3107105557118454, 0.6214211114236908, 0.6532694463616556, 0.8156673963674385, 0.6532694881146069, 0.26725555447111765, 0.26725555447111765, 0.13362777723555883, 0.26725555447111765, 0.13362777723555883, 0.27663127420003736, 0.27663127420003736, 0.27663127420003736, 0.20111542557279108, 0.28156159580190754, 0.08044617022911643, 0.08044617022911643, 0.08044617022911643, 0.08044617022911643, 0.08044617022911643, 0.12066925534367465, 0.040223085114558216, 0.7187926825844392, 0.23959756086147974, 0.6992891666873032, 0.6381702122245745, 0.6381702608017601, 0.8460624649777906, 0.12778507192534566, 0.2555701438506913, 0.1916776078880185, 0.06389253596267283, 0.12778507192534566, 0.06389253596267283, 0.12778507192534566, 0.6949638365182208, 0.2574937863173786, 0.2574937863173786, 0.2574937863173786, 0.2580714885967367, 0.2580714885967367, 0.12903574429836834, 0.12903574429836834, 0.12903574429836834, 0.12903574429836834, 0.6379590187758474, 0.08633287629891596, 0.5179972577934957, 0.17266575259783193, 0.08633287629891596, 0.17266575259783193, 0.6379588905119248, 0.16428917538947457, 0.16428917538947457, 0.16428917538947457, 0.16428917538947457, 0.16428917538947457, 0.6379589827575773, 0.6693823318076499, 0.653269490565679, 0.8460627029974541, 0.6693824432003955, 0.1430052910211016, 0.1430052910211016, 0.2860105820422032, 0.1430052910211016, 0.2860105820422032, 0.6157091282007098, 0.6693824531658289, 0.6379589568415477, 0.6105203033078759, 0.30526015165393794, 0.35030916589370703, 0.05389371782980108, 0.21557487131920433, 0.1347342945745027, 0.16168115348940323, 0.02694685891490054, 0.02694685891490054, 0.2107810509691008, 0.2107810509691008, 0.2107810509691008, 0.4215621019382016, 0.6379588917780935, 0.6361772591737175, 0.2517345188467404, 0.5034690376934808, 0.2848491274306113, 0.5696982548612226, 0.6992903871949863, 0.694962716827203, 0.6992893378771176, 0.6381702875799902, 0.609751684035176, 0.304875842017588, 0.63795898616368, 0.37487933518537664, 0.18743966759268832, 0.18743966759268832, 0.18743966759268832, 0.6992905098235261, 0.40788135432849204, 0.650007726964253, 0.6145409170823904, 0.6693820988483172, 0.6157092107195594, 0.2120896954564016, 0.2120896954564016, 0.4241793909128032, 0.6105467452650507, 0.30527337263252535, 0.6157092427696483, 0.6949639191377908, 0.6361772273654787, 0.6102045291494139, 0.6552759111639422, 0.6381702260164424, 0.49976574563047177, 0.07139510651863883, 0.07139510651863883, 0.07139510651863883, 0.07139510651863883, 0.14279021303727765, 0.07139510651863883, 0.6157091590294488, 0.6358134842884641, 0.2119378280961547, 0.669382211883506, 0.21947889408278576, 0.10973944704139288, 0.21947889408278576, 0.10973944704139288, 0.21947889408278576, 0.42943395416110586, 0.6949628833068231, 0.8070320304828114, 0.6379589065877583, 0.8027999154336612, 0.5495056991095306, 0.2747528495547653, 0.07151302394097638, 0.5005911675868346, 0.07151302394097638, 0.07151302394097638, 0.14302604788195275, 0.14302604788195275, 0.6532694678208859, 0.3182602046559125, 0.636520409311825, 0.2331028951176528, 0.4662057902353056, 0.1554019300784352, 0.0777009650392176, 0.1554019300784352, 0.20008300499415155, 0.6002490149824546, 0.20008300499415155, 0.6379589675677372, 0.6361772949004513, 0.1952059870927107, 0.1952059870927107, 0.292808980639066, 0.09760299354635535, 0.09760299354635535, 0.33762590245166874, 0.33762590245166874, 0.5215725242092673, 0.2607862621046336, 0.2607862621046336, 0.6949634604334095, 0.6532694159286617, 0.6532694250517638, 0.6379589541559588, 0.12573718885616408, 0.31434297214041024, 0.12573718885616408, 0.06286859442808204, 0.12573718885616408, 0.12573718885616408, 0.06286859442808204, 0.6361771941269831, 0.2902894440149456, 0.11058645486283641, 0.2349962165835274, 0.08293984114712731, 0.05529322743141821, 0.027646613715709104, 0.08293984114712731, 0.013823306857854552, 0.08293984114712731, 0.14918942428342927, 0.14918942428342927, 0.14918942428342927, 0.14918942428342927, 0.4475682728502878, 0.6949626132605136, 0.63795888853384, 0.6693822581984255, 0.05632319183761698, 0.16896957551285094, 0.16896957551285094, 0.2816159591880849, 0.11264638367523395, 0.05632319183761698, 0.11264638367523395, 0.1193045032672789, 0.2386090065345578, 0.1193045032672789, 0.1193045032672789, 0.2386090065345578, 0.2386090065345578, 0.3705757585842663, 0.18528787929213314, 0.18528787929213314, 0.18528787929213314, 0.6949623536802388, 0.6361772147738005, 0.12715898914477405, 0.3814769674343222, 0.12715898914477405, 0.2543179782895481, 0.12715898914477405, 0.6381701859868489, 0.6949638323188011, 0.3205318696272825, 0.641063739254565, 0.3486162575888636, 0.3486162575888636, 0.6532694319523292, 0.6500077593954372, 0.6693823471012119, 0.6157092464466818, 0.6992904117950273, 0.6500077512414244, 0.11654308528124165, 0.2330861705624833, 0.11654308528124165, 0.34962925584372495, 0.16201660936574885, 0.16201660936574885, 0.16201660936574885, 0.16201660936574885, 0.16201660936574885, 0.16201660936574885, 0.6693822377647637, 0.6157092661355341, 0.6102044295789424, 0.1687143427150858, 0.0843571713575429, 0.25307151407262873, 0.3374286854301716, 0.1687143427150858, 0.6361772298528089, 0.10143127960103049, 0.10143127960103049, 0.10143127960103049, 0.10143127960103049, 0.10143127960103049, 0.10143127960103049, 0.10143127960103049, 0.30429383880309147, 0.6379589159751977, 0.10514708969603508, 0.5257354484801754, 0.10514708969603508, 0.10514708969603508, 0.10514708969603508, 0.21029417939207015, 0.8669948959709061, 0.6361772337647875, 0.20368950663977514, 0.3055342599596627, 0.20368950663977514, 0.10184475331988757, 0.10184475331988757, 0.10184475331988757, 0.6532694447531237, 0.6532695362408875, 0.8669950623204608, 0.6992885632942597, 0.6157091313587163, 0.25267768701955967, 0.5053553740391193, 0.25267768701955967, 0.6361772237652912, 0.8070326430249058, 0.6693825009775203, 0.6137340958111366, 0.20457803193704552, 0.20457803193704552, 0.6381702715979436, 0.7329645038345471, 0.2443215012781824, 0.6992893020097076, 0.13039386264944233, 0.13039386264944233, 0.13039386264944233, 0.13039386264944233, 0.13039386264944233, 0.13039386264944233, 0.13039386264944233, 0.13039386264944233, 0.8728071665543864, 0.6532695098160847, 0.699289853859266, 0.6381701648201186, 0.6381702635721225, 0.7251751307177264, 0.2417250435725755, 0.6102044924222388, 0.6532694608469373, 0.6784342716791877, 0.16960856791979692, 0.16960856791979692, 0.6992896791162309, 0.43467170526810517, 0.21733585263405258, 0.21733585263405258, 0.21733585263405258, 0.6381702523173687, 0.6949633230934082, 0.6949633261220797, 0.6102044832696422, 0.6102044312877227, 0.6381701276204699, 0.6496134929019005, 0.32480674645095026, 0.2688324781061059, 0.5376649562122118, 0.2688324781061059, 0.5330870480316228, 0.2665435240158114, 0.2665435240158114, 0.650007700249002, 0.6379588855919129, 0.16423721375101757, 0.16423721375101757, 0.32847442750203515, 0.16423721375101757, 0.16423721375101757, 0.23461922628105142, 0.07820640876035047, 0.15641281752070094, 0.07820640876035047, 0.15641281752070094, 0.07820640876035047, 0.15641281752070094, 0.07820640876035047, 0.2485542582958782, 0.06213856457396955, 0.1242771291479391, 0.06213856457396955, 0.06213856457396955, 0.1242771291479391, 0.1242771291479391, 0.06213856457396955, 0.1242771291479391, 0.8425632883529546, 0.5583371331163047, 0.12689480298097836, 0.02537896059619567, 0.02537896059619567, 0.05075792119239134, 0.05075792119239134, 0.02537896059619567, 0.07613688178858702, 0.02537896059619567, 0.6361771358884498, 0.8669951486557506, 0.26655408771732964, 0.5331081754346593, 0.6949637136713684, 0.6379588887777541, 0.4606323193344917, 0.15030715489733834, 0.15030715489733834, 0.3006143097946767, 0.15030715489733834, 0.15030715489733834, 0.650007745624274, 0.8121100197881377, 0.6532694829718023, 0.669382381070664, 0.847906248960429, 0.6693823780129552, 0.21869060916303723, 0.43738121832607446, 0.21869060916303723, 0.21869060916303723, 0.048449843370896306, 0.09689968674179261, 0.048449843370896306, 0.21802429516903338, 0.14534953011268892, 0.12112460842724077, 0.048449843370896306, 0.14534953011268892, 0.12112460842724077, 0.024224921685448153, 0.6174927333158937, 0.30874636665794686, 0.6477231319292133, 0.32386156596460663, 0.4793794693358641, 0.09587589386717282, 0.19175178773434565, 0.09587589386717282, 0.09587589386717282, 0.44844101825346905, 0.6532694516428462, 0.6992895551288201, 0.6381701756470217, 0.6381702518405684, 0.6102044824485915, 0.6532693928912386, 0.2746297922058608, 0.09154326406862028, 0.4577163203431014, 0.09154326406862028, 0.09154326406862028, 0.6381702919613833, 0.6105223036510957, 0.30526115182554786, 0.8425632582923255, 0.6949635474582734, 0.6157091440238656, 0.1898878651900854, 0.1898878651900854, 0.3797757303801708, 0.1898878651900854, 0.807041107882051, 0.17291961523688698, 0.08645980761844349, 0.17291961523688698, 0.6052186533291044, 0.6381702327918826, 0.07702457765882317, 0.15404915531764635, 0.15404915531764635, 0.15404915531764635, 0.23107373297646952, 0.07702457765882317, 0.15404915531764635, 0.07702457765882317, 0.1878669010169245, 0.1878669010169245, 0.375733802033849, 0.1878669010169245, 0.1878669010169245, 0.49372348926008275, 0.49372348926008275, 0.699289350306559, 0.6172245127227739, 0.30861225636138695, 0.6105666296601518, 0.3052833148300759, 0.6949626699394684, 0.038254585958107795, 0.15301834383243118, 0.11476375787432339, 0.038254585958107795, 0.22952751574864677, 0.07650917191621559, 0.22952751574864677, 0.07650917191621559, 0.038254585958107795, 0.6949629320357006, 0.6992891325610162, 0.19163287446510333, 0.19163287446510333, 0.19163287446510333, 0.19163287446510333, 0.19163287446510333, 0.26140177853738616, 0.13070088926869308, 0.26140177853738616, 0.13070088926869308, 0.13070088926869308, 0.13070088926869308, 0.7906433744430135, 0.6992890052962452, 0.6500077475508398, 0.8460635424735199, 0.6361772400841248, 0.6500076743694506, 0.11363521792741348, 0.22727043585482695, 0.3409056537822404, 0.11363521792741348, 0.11363521792741348, 0.11363521792741348, 0.6381702633150689, 0.4719238034358941, 0.18876952137435762, 0.09438476068717881, 0.18876952137435762, 0.2550355879587854, 0.08501186265292845, 0.1700237253058569, 0.2550355879587854, 0.08501186265292845, 0.1700237253058569, 0.6992893868094477, 0.6157091823941602, 0.12703639288472937, 0.12703639288472937, 0.25407278576945874, 0.12703639288472937, 0.12703639288472937, 0.12703639288472937, 0.631022915574123, 0.3155114577870615, 0.331653422390998, 0.663306844781996, 0.6361772273174068, 0.17929710507253332, 0.18925805535434073, 0.08964855253626666, 0.07968760225445926, 0.06972665197265185, 0.06972665197265185, 0.049804751409037035, 0.1294923536634963, 0.05976570169084444, 0.06972665197265185, 0.6327509383030734, 0.42287919175049565, 0.03898451376173171, 0.03898451376173171, 0.03898451376173171, 0.03898451376173171, 0.4288296513790488, 0.15593805504692684, 0.09746128440432927, 0.03898451376173171, 0.05847677064259757, 0.03898451376173171, 0.6992901698637533, 0.69928967959696, 0.8453663998554901, 0.6381702882125182, 0.6157090862155588, 0.6532694690304097, 0.14470666185450057, 0.12058888487875047, 0.07235333092725028, 0.09647110790300038, 0.04823555395150019, 0.09647110790300038, 0.21705999278175084, 0.04823555395150019, 0.04823555395150019, 0.09647110790300038, 0.6949623174797465, 0.6379589918248205, 0.45227252244083016, 0.45227252244083016, 0.6379589604002036, 0.6381702157790043, 0.6500077700759976, 0.12020467105619005, 0.2404093421123801, 0.36061401316857017, 0.12020467105619005, 0.12020467105619005, 0.1862823195771387, 0.2395058394563212, 0.05322351987918249, 0.07983527981877372, 0.13305879969795623, 0.13305879969795623, 0.13305879969795623, 0.6102045140792034, 0.6949638209253752, 0.6379590341586857, 0.8425632994485451, 0.12010283798958006, 0.12010283798958006, 0.12010283798958006, 0.06005141899479003, 0.3603085139687402, 0.06005141899479003, 0.06005141899479003, 0.06005141899479003, 0.06005141899479003, 0.18934781463613343, 0.18934781463613343, 0.18934781463613343, 0.18934781463613343, 0.18934781463613343, 0.6500077868480172, 0.6693822816424263, 0.24796536881548015, 0.16531024587698678, 0.08265512293849339, 0.16531024587698678, 0.16531024587698678, 0.24796536881548015, 0.08265512293849339, 0.6532695302827445, 0.6361771739567402, 0.20763257891040504, 0.13842171927360336, 0.13842171927360336, 0.20763257891040504, 0.13842171927360336, 0.13842171927360336, 0.06921085963680168, 0.8425635515147547, 0.21236236337952216, 0.21236236337952216, 0.21236236337952216, 0.4247247267590443, 0.2364083260379789, 0.07880277534599296, 0.026267591781997657, 0.10507036712799063, 0.13133795890998828, 0.052535183563995315, 0.28894350960197424, 0.07880277534599296, 0.17128672080200247, 0.05709557360066749, 0.11419114720133498, 0.28547786800333746, 0.22838229440266997, 0.05709557360066749, 0.11419114720133498, 0.05709557360066749, 0.3578753864655516, 0.3578753864655516, 0.6992900570695934, 0.09450484871236994, 0.28351454613710986, 0.1890096974247399, 0.1890096974247399, 0.1890096974247399, 0.10277322993023201, 0.25693307482558003, 0.10277322993023201, 0.25693307482558003, 0.051386614965116005, 0.10277322993023201, 0.051386614965116005, 0.051386614965116005, 0.051386614965116005, 0.534108665215272, 0.152602475775792, 0.076301237887896, 0.076301237887896, 0.076301237887896, 0.076301237887896, 0.08242688198876112, 0.08242688198876112, 0.16485376397752224, 0.16485376397752224, 0.08242688198876112, 0.08242688198876112, 0.08242688198876112, 0.08242688198876112, 0.08242688198876112, 0.6693824393153228, 0.1857189545425187, 0.330167030297811, 0.10317719696806595, 0.04127087878722638, 0.08254175757445276, 0.06190631818083957, 0.08254175757445276, 0.02063543939361319, 0.04127087878722638, 0.04127087878722638, 0.3888067271417976, 0.0972016817854494, 0.0972016817854494, 0.0972016817854494, 0.1944033635708988, 0.1944033635708988, 0.6992896011523363, 0.6157091675687649, 0.4344983421795929, 0.21724917108979644, 0.21724917108979644, 0.6379589297439452, 0.6693822918915149, 0.25718208645752666, 0.25718208645752666, 0.25718208645752666, 0.24469715067292308, 0.24469715067292308, 0.48939430134584616, 0.5248842826072947, 0.1749614275357649, 0.1749614275357649, 0.6532695125810731, 0.6361772122408768, 0.10882476560250712, 0.21764953120501424, 0.10882476560250712, 0.21764953120501424, 0.21764953120501424, 0.10882476560250712, 0.10882476560250712, 0.6693824114031756, 0.6500077358624834, 0.25270801768046636, 0.25270801768046636, 0.5054160353609327, 0.6102044655671105, 0.6157092259642848, 0.6500077457812682, 0.7976078135655673, 0.5055253105194492, 0.2527626552597246, 0.2527626552597246, 0.30217538663993654, 0.15108769331996827, 0.15108769331996827, 0.30217538663993654, 0.6992892897322681, 0.6693822072733696, 0.6324424930946285, 0.31622124654731426, 0.6157091673957297, 0.3127494376306824, 0.6254988752613648, 0.3265360201953804, 0.3265360201953804, 0.6693821388314647, 0.367603735816711, 0.0735207471633422, 0.0735207471633422, 0.2940829886533688, 0.0735207471633422, 0.1470414943266844, 0.3454038053723812, 0.0863509513430953, 0.12952642701464295, 0.12952642701464295, 0.0863509513430953, 0.12952642701464295, 0.04317547567154765, 0.6361772619129575, 0.2389068586173497, 0.7167205758520491, 0.04825320346090898, 0.02412660173045449, 0.02412660173045449, 0.07237980519136347, 0.04825320346090898, 0.7720512553745437, 0.8025790113035773, 0.7741048172613801, 0.06450873477178168, 0.12901746954356336, 0.6379588847121472, 0.3129633847997317, 0.15648169239986584, 0.15648169239986584, 0.15648169239986584, 0.15648169239986584, 0.13114422014185476, 0.2622884402837095, 0.2622884402837095, 0.13114422014185476, 0.13114422014185476, 0.2075201316048395, 0.2075201316048395, 0.415040263209679, 0.6361771631975491, 0.6500076858434798, 0.32379580778781464, 0.6475916155756293, 0.453289245918337, 0.2266446229591685, 0.11332231147958426, 0.6480695022610928, 0.3240347511305464, 0.7976207380732947, 0.6105223496005127, 0.30526117480025633, 0.5720057660175625, 0.08171510943108035, 0.08171510943108035, 0.24514532829324104, 0.12052387597781396, 0.4907043521953854, 0.017217696568259135, 0.008608848284129568, 0.017217696568259135, 0.2668742968080166, 0.06887078627303654, 0.15011819718227368, 0.10007879812151578, 0.05003939906075789, 0.033359599373838596, 0.36695559311222453, 0.11675859780843507, 0.15011819718227368, 0.016679799686919298, 0.6157091625957555, 0.1390556621988452, 0.5562226487953807, 0.1390556621988452, 0.1390556621988452, 0.16203083798336157, 0.27005139663893596, 0.054010279327787195, 0.054010279327787195, 0.10802055865557439, 0.10802055865557439, 0.16203083798336157, 0.054010279327787195, 0.054010279327787195, 0.24562124049686532, 0.24562124049686532, 0.49124248099373063, 0.22425528319667384, 0.22425528319667384, 0.11212764159833692, 0.11212764159833692, 0.22425528319667384, 0.11212764159833692, 0.6395850148395572, 0.3197925074197786, 0.6500077431433038, 0.6379589033262777, 0.11735129000223364, 0.11735129000223364, 0.23470258000446728, 0.11735129000223364, 0.23470258000446728, 0.11735129000223364, 0.11735129000223364, 0.6693821884740827, 0.2073514913908, 0.34558581898466667, 0.06911716379693333, 0.13823432759386667, 0.13823432759386667, 0.06911716379693333, 0.06911716379693333, 0.6500077236398296, 0.6949637582927678, 0.6157091372247718, 0.08669625672718231, 0.17339251345436463, 0.08669625672718231, 0.08669625672718231, 0.13004438509077346, 0.08669625672718231, 0.3034368985451381, 0.08669625672718231, 0.42623591620063256, 0.6379589166153592, 0.6500077707832926, 0.6475055267249691, 0.32375276336248454, 0.2541524314031214, 0.0847174771343738, 0.1694349542687476, 0.0847174771343738, 0.0847174771343738, 0.0847174771343738, 0.0847174771343738, 0.0847174771343738, 0.09309588815159561, 0.18619177630319123, 0.09309588815159561, 0.37238355260638245, 0.18619177630319123, 0.09309588815159561, 0.09309588815159561, 0.23973749292066224, 0.7192124787619867, 0.6949635991082695, 0.6157091895978969, 0.6500076897495448, 0.6379588452586857, 0.6102044181531049, 0.6500078211001281, 0.6949635538087721, 0.6949633723154339, 0.27426649470024717, 0.5485329894004943, 0.27426649470024717, 0.3357446370824355, 0.671489274164871, 0.189716099482776, 0.189716099482776, 0.189716099482776, 0.189716099482776, 0.189716099482776, 0.6379589382737351, 0.2479258564036941, 0.3718887846055412, 0.2479258564036941, 0.12396292820184705, 0.6329927354757018, 0.14066505232793375, 0.14066505232793375, 0.07033252616396687, 0.07033252616396687, 0.6693824394755936, 0.5949573758060097, 0.29747868790300486, 0.6532694168736372, 0.27357482511360137, 0.27357482511360137, 0.27357482511360137, 0.6532694796334313, 0.69928854643866, 0.653269476231804, 0.6532694677611061, 0.14569972384374605, 0.14569972384374605, 0.14569972384374605, 0.14569972384374605, 0.14569972384374605, 0.14569972384374605, 0.6381703006729287, 0.2594728256720281, 0.5189456513440562, 0.6992894256246451, 0.3389551564869648, 0.11298505216232159, 0.056492526081160795, 0.11298505216232159, 0.11298505216232159, 0.11298505216232159, 0.056492526081160795, 0.11298505216232159, 0.6361771902271876, 0.6157091352908084, 0.6157092017597005, 0.18088434124891528, 0.5426530237467458, 0.2595979175584527, 0.5191958351169054, 0.2595979175584527, 0.3004730714999967, 0.6009461429999934, 0.15023653574999835, 0.610204456342513, 0.6102044801136541, 0.14510309105701696, 0.14510309105701696, 0.14510309105701696, 0.29020618211403393, 0.14510309105701696, 0.14510309105701696, 0.2698535318413305, 0.16191211910479827, 0.05397070636826609, 0.10794141273653218, 0.16191211910479827, 0.05397070636826609, 0.10794141273653218, 0.10794141273653218, 0.05397070636826609, 0.4470255774426834, 0.6992899626874626, 0.6381702623764316, 0.18926386225403252, 0.37852772450806504, 0.09463193112701626, 0.18926386225403252, 0.09463193112701626, 0.09463193112701626, 0.6693822864492376, 0.8070332484160395, 0.06666514051729229, 0.2999931323278153, 0.06666514051729229, 0.13333028103458458, 0.06666514051729229, 0.09999771077593844, 0.16666285129323072, 0.06666514051729229, 0.033332570258646145, 0.8070340499734867, 0.4176330580714904, 0.14952294671695335, 0.09796330991800392, 0.1185871646375837, 0.036091745759264604, 0.04640367311905449, 0.05671560047884438, 0.020623854719579775, 0.010311927359789887, 0.036091745759264604, 0.43467177699470355, 0.6361772695056321, 0.63817030478708, 0.842563128545876, 0.5134661400587319, 0.5134661400587319, 0.8728074295679654, 0.6157091426460841, 0.6361771494911506, 0.40645121566469633, 0.16258048626587854, 0.16258048626587854, 0.16258048626587854, 0.08129024313293927, 0.08129024313293927, 0.3192213788818399, 0.3192213788818399, 0.6949637983576652, 0.4845693722468172, 0.09691387444936343, 0.19382774889872686, 0.09691387444936343, 0.09691387444936343, 0.6379589832626589, 0.6500076878415249, 0.6500077113657583, 0.31826017885181046, 0.6365203577036209, 0.6693821545411456, 0.6992892705004726, 0.18031155222004575, 0.18031155222004575, 0.13523366416503432, 0.09015577611002287, 0.045077888055011436, 0.18031155222004575, 0.09015577611002287, 0.09015577611002287, 0.045077888055011436, 0.33080519928779056, 0.33080519928779056, 0.33080519928779056, 0.669382046192277, 0.25730454991610907, 0.25730454991610907, 0.25730454991610907, 0.6500077249052634, 0.8425633612082405, 0.12371605865503187, 0.06185802932751593, 0.12371605865503187, 0.24743211731006373, 0.1855740879825478, 0.06185802932751593, 0.06185802932751593, 0.49014448904789176, 0.12253612226197294, 0.24507224452394588, 0.12253612226197294, 0.6949633716455285, 0.6693819775899532, 0.6102045265774454, 0.6157091145120971, 0.6992899161159031, 0.699289031797725, 0.2063080406244704, 0.257885050780588, 0.0515770101561176, 0.257885050780588, 0.1031540203122352, 0.1031540203122352, 0.21127652746551426, 0.4225530549310285, 0.21127652746551426, 0.17808608886842198, 0.17808608886842198, 0.08904304443421099, 0.08904304443421099, 0.17808608886842198, 0.17808608886842198, 0.08904304443421099, 0.21778828289450447, 0.11615375087706904, 0.20326906403487083, 0.23230750175413808, 0.04355765657890089, 0.11615375087706904, 0.02903843771926726, 0.02903843771926726, 0.02903843771926726, 0.6949632700631453, 0.6361772213199844, 0.6385155194183441, 0.31925775970917203, 0.7558132580195862, 0.15116265160391723, 0.6693822074004918, 0.4285349876338213, 0.6693821283363085, 0.4744311039332147, 0.3974706641276572, 0.07949413282553143, 0.07949413282553143, 0.15898826565106286, 0.15898826565106286, 0.07949413282553143, 0.07949413282553143, 0.6323241178577103, 0.33857816522550965, 0.11285938840850321, 0.22571877681700642, 0.11285938840850321, 0.11285938840850321, 0.11285938840850321, 0.6381701730027108, 0.6379590174149373, 0.12020092677014357, 0.36060278031043075, 0.12020092677014357, 0.24040185354028715, 0.12020092677014357, 0.59492659234381, 0.297463296171905, 0.25352705073767573, 0.5070541014753515, 0.25352705073767573, 0.6949632878214016, 0.6992898358627685, 0.6102044423451121, 0.650007663530558, 0.1455471542276146, 0.1455471542276146, 0.2910943084552292, 0.1455471542276146, 0.1455471542276146, 0.15772810272096707, 0.2365921540814506, 0.07886405136048354, 0.31545620544193415, 0.07886405136048354, 0.07886405136048354, 0.6693821610735797, 0.6500076960559871, 0.23372070536023568, 0.701162116080707, 0.7316907912498004, 0.24389693041660016, 0.6532694162701922, 0.6693821439872789, 0.669382141504024, 0.6379589061374191, 0.38393352823979465, 0.25595568549319647, 0.25595568549319647, 0.12797784274659824, 0.5018105578124158, 0.5018105578124158, 0.2581265244899401, 0.09679744668372754, 0.016132907780621257, 0.12906326224497006, 0.1451961700255913, 0.19359489336745508, 0.04839872334186377, 0.04839872334186377, 0.04839872334186377, 0.016132907780621257, 0.699289575899042, 0.16014821682946953, 0.106765477886313, 0.0533827389431565, 0.213530955772626, 0.2669136947157825, 0.106765477886313, 0.0533827389431565, 0.0533827389431565, 0.224640082281368, 0.224640082281368, 0.224640082281368, 0.224640082281368, 0.6072683770054923, 0.30363418850274615, 0.19998933976206618, 0.09999466988103309, 0.09999466988103309, 0.19998933976206618, 0.19998933976206618, 0.09999466988103309, 0.18228545310748676, 0.09114272655374338, 0.18228545310748676, 0.09114272655374338, 0.18228545310748676, 0.18228545310748676, 0.09114272655374338, 0.09114272655374338, 0.6361772178712012, 0.8669950746487716, 0.6949630350615971, 0.6949633360977117, 0.650007702280884, 0.6381702377340593, 0.09882172765238241, 0.09882172765238241, 0.19764345530476482, 0.19764345530476482, 0.19764345530476482, 0.09882172765238241, 0.7976020655959166, 0.610204558943182, 0.47847440583050166, 0.42642957712419366, 0.42642957712419366, 0.2776391018023085, 0.04627318363371808, 0.13881955090115425, 0.04627318363371808, 0.2776391018023085, 0.04627318363371808, 0.13881955090115425, 0.13710197831796933, 0.205652967476954, 0.13710197831796933, 0.06855098915898467, 0.13710197831796933, 0.06855098915898467, 0.205652967476954, 0.32971383033262675, 0.32971383033262675, 0.7976016255577871, 0.18555799475466508, 0.11133479685279905, 0.2226695937055981, 0.037111598950933015, 0.037111598950933015, 0.07422319790186603, 0.07422319790186603, 0.18555799475466508, 0.07422319790186603, 0.6949624699695597, 0.20476717982104198, 0.20476717982104198, 0.40953435964208396, 0.7976083753862971, 0.6361771971574446, 0.41178444314565776, 0.13726148104855257, 0.27452296209710514, 0.13726148104855257, 0.6532694705073995, 0.45177495337168144, 0.45177495337168144, 0.6532694174504704, 0.30924754610080735, 0.6184950922016147, 0.6693821180686206, 0.21002488614274956, 0.10501244307137478, 0.21002488614274956, 0.10501244307137478, 0.10501244307137478, 0.21002488614274956, 0.10501244307137478, 0.6381701596867009, 0.650007780384378, 0.6465674819873951, 0.12616677682441596, 0.2855353370236782, 0.15936856019926227, 0.09296499344956966, 0.09296499344956966, 0.07304392342466187, 0.07304392342466187, 0.013280713349938524, 0.019921070024907783, 0.06640356674969261, 0.6379588666621266, 0.2608987287386918, 0.05797749527526484, 0.11595499055052969, 0.05797749527526484, 0.20292123346342694, 0.05797749527526484, 0.08696624291289726, 0.11595499055052969, 0.02898874763763242, 0.6361772009296989, 0.6379590117009794, 0.26377093917826666, 0.43961823196377775, 0.08792364639275554, 0.08792364639275554, 0.08792364639275554, 0.08792364639275554, 0.12887512424144904, 0.08591674949429935, 0.08591674949429935, 0.08591674949429935, 0.08591674949429935, 0.3436669979771974, 0.08591674949429935, 0.08591674949429935, 0.6693823302208707, 0.653269463838854, 0.43398131173206195, 0.43398131173206195], \"Term\": [\"ability\", \"able\", \"able\", \"abstract\", \"account\", \"achieve\", \"action\", \"action\", \"action\", \"action\", \"action\", \"actions\", \"actions\", \"actions\", \"activities\", \"activities\", \"activities\", \"activities\", \"activities\", \"activities\", \"activities\", \"activities\", \"activities\", \"actually\", \"actually\", \"advanced\", \"agency\", \"allocate\", \"alot\", \"already\", \"already\", \"already\", \"already\", \"already\", \"already\", \"already\", \"americas\", \"another\", \"another\", \"another\", \"anything\", \"anything\", \"anything\", \"anything\", \"anything\", \"anything\", \"apart\", \"applicable\", \"applicable\", \"applicable\", \"applicable\", \"applicable\", \"application\", \"apply\", \"apply\", \"apply\", \"apply\", \"apply\", \"approval\", \"aquired\", \"arise\", \"around\", \"assessments\", \"assistance\", \"assistance\", \"assistance\", \"assistance\", \"assistance\", \"assume\", \"assuming\", \"attending\", \"attention\", \"attention\", \"attitudes\", \"attitudes\", \"attitudes\", \"attitudes\", \"attitudes\", \"attitudes\", \"attitudes\", \"aware\", \"aware\", \"aware\", \"aware\", \"awareness\", \"away\", \"back\", \"back\", \"basic\", \"basic\", \"bec\", \"becluse\", \"becoming\", \"beijing\", \"beneficiaries\", \"beneficiaries\", \"benefitted\", \"better\", \"better\", \"better\", \"better\", \"biggest\", \"bit\", \"bueno\", \"cant\", \"care\", \"carried\", \"cases\", \"cases\", \"cases\", \"cause\", \"cause\", \"challanges\", \"change\", \"china\", \"choose\", \"clear\", \"clearly\", \"code\", \"code\", \"code\", \"code\", \"code\", \"code\", \"code\", \"collective\", \"comment\", \"comment\", \"comments\", \"communication\", \"communication\", \"communication\", \"communication\", \"communication\", \"como\", \"company\", \"components\", \"compotent\", \"concentration\", \"concepts\", \"concepts\", \"conduct\", \"conduct\", \"conduct\", \"conduct\", \"conduct\", \"conduct\", \"conference\", \"confidentiality\", \"confidentiality\", \"conflict\", \"conflict\", \"conflict\", \"conflict\", \"conflict\", \"connected\", \"connected\", \"connected\", \"consider\", \"contents\", \"context\", \"context\", \"context\", \"context\", \"context\", \"contribute\", \"contribute\", \"conventions\", \"conventions\", \"conventions\", \"conversation\", \"cooperated\", \"coordinating\", \"correctly\", \"could\", \"could\", \"could\", \"could\", \"could\", \"could\", \"could\", \"couple\", \"course\", \"course\", \"course\", \"course\", \"course\", \"course\", \"course\", \"course\", \"course\", \"courses\", \"courses\", \"courses\", \"courses\", \"courses\", \"cousrse\", \"cover\", \"crucial\", \"cyber\", \"cyber\", \"cyber\", \"cyber\", \"cyber\", \"cyber\", \"cyber\", \"daily\", \"daily\", \"daily\", \"daily\", \"daily\", \"daily\", \"data\", \"data\", \"data\", \"data\", \"dates\", \"days\", \"de\", \"de\", \"de\", \"de\", \"de\", \"dead\", \"deadlines\", \"deal\", \"deal\", \"decision\", \"decision\", \"dedicar\", \"deemed\", \"deep\", \"definite\", \"deleg\", \"delegacion\", \"department\", \"department\", \"department\", \"department\", \"departments\", \"departments\", \"departments\", \"departments\", \"departments\", \"departments\", \"depends\", \"derives\", \"detaillee\", \"details\", \"details\", \"details\", \"details\", \"details\", \"dialy\", \"different\", \"different\", \"different\", \"different\", \"different\", \"different\", \"different\", \"different\", \"differs\", \"difficult\", \"difficult\", \"difficult\", \"difficult\", \"difficult\", \"difficult\", \"diffrent\", \"diplomatice\", \"directly\", \"directly\", \"directly\", \"directly\", \"directly\", \"directly\", \"directors\", \"discuss\", \"discussion\", \"discussions\", \"diverse\", \"diversity\", \"diversity\", \"diversity\", \"documentos\", \"documents\", \"doesnt\", \"done\", \"done\", \"done\", \"donors\", \"drawing\", \"drawing\", \"drink\", \"due\", \"due\", \"due\", \"due\", \"due\", \"due\", \"due\", \"due\", \"duty\", \"easier\", \"effected\", \"efforts\", \"eight\", \"either\", \"either\", \"elle\", \"emblem\", \"employee\", \"employee\", \"employee\", \"employer\", \"en\", \"en\", \"en\", \"en\", \"engagement\", \"engaging\", \"enlightening\", \"enormement\", \"ensemble\", \"ensuring\", \"es\", \"es\", \"especially\", \"especially\", \"especially\", \"essential\", \"essential\", \"essential\", \"essentially\", \"establishing\", \"etc\", \"etc\", \"etc\", \"etc\", \"etc\", \"even\", \"even\", \"even\", \"even\", \"even\", \"even\", \"even\", \"even\", \"every\", \"every\", \"every\", \"every\", \"every\", \"every\", \"every\", \"every\", \"every\", \"everybody\", \"everything\", \"everything\", \"everything\", \"everything\", \"everything\", \"everything\", \"everything\", \"everything\", \"everything\", \"exceeding\", \"existen\", \"experience\", \"experience\", \"experts\", \"explain\", \"external\", \"face\", \"face\", \"face\", \"face\", \"face\", \"facilitation\", \"fact\", \"fail\", \"falls\", \"family\", \"favorite\", \"feel\", \"feel\", \"feel\", \"feel\", \"field\", \"field\", \"field\", \"field\", \"field\", \"field\", \"field\", \"field\", \"field\", \"field\", \"filed\", \"filed\", \"financial\", \"financial\", \"find\", \"find\", \"find\", \"find\", \"find\", \"finished\", \"follow\", \"food\", \"forensic\", \"forensics\", \"formation\", \"fortunately\", \"found\", \"found\", \"found\", \"found\", \"found\", \"frustrating\", \"fue\", \"fue\", \"fully\", \"fun\", \"functions\", \"fundamental\", \"fundamental\", \"fundamental\", \"fundamental\", \"fundaments\", \"funding\", \"funding\", \"funding\", \"funding\", \"games\", \"general\", \"general\", \"general\", \"general\", \"general\", \"general\", \"general\", \"general\", \"get\", \"get\", \"get\", \"get\", \"get\", \"given\", \"given\", \"glad\", \"global\", \"global\", \"goal\", \"goal\", \"goals\", \"good\", \"good\", \"good\", \"good\", \"good\", \"good\", \"good\", \"good\", \"good\", \"goos\", \"govern\", \"great\", \"great\", \"great\", \"great\", \"great\", \"group\", \"group\", \"group\", \"group\", \"group\", \"group\", \"guardian\", \"guess\", \"guidelines\", \"happy\", \"healthcare\", \"heard\", \"help\", \"help\", \"help\", \"help\", \"help\", \"help\", \"helped\", \"helpful\", \"helpful\", \"helpful\", \"helpful\", \"history\", \"history\", \"history\", \"history\", \"history\", \"history\", \"honestly\", \"honesty\", \"however\", \"however\", \"however\", \"however\", \"however\", \"however\", \"humanity\", \"humanity\", \"iac\", \"iac\", \"iam\", \"icrc\", \"icrc\", \"icrc\", \"icrc\", \"icrc\", \"icrc\", \"icrc\", \"icrc\", \"icrc\", \"icrc\", \"ict\", \"ideas\", \"ihl\", \"ihl\", \"ihl\", \"ihl\", \"ihl\", \"ihl\", \"ihl\", \"ihl\", \"ihl\", \"ihl\", \"im\", \"imagined\", \"immediately\", \"impact\", \"impeccable\", \"implications\", \"important\", \"important\", \"important\", \"important\", \"important\", \"important\", \"important\", \"important\", \"important\", \"important\", \"impressive\", \"included\", \"incorrect\", \"incorrect\", \"increased\", \"increasingly\", \"inflexible\", \"info\", \"info\", \"info\", \"info\", \"info\", \"information\", \"information\", \"information\", \"information\", \"information\", \"information\", \"information\", \"informations\", \"insight\", \"intended\", \"interact\", \"interesting\", \"interesting\", \"interesting\", \"interesting\", \"interesting\", \"interesting\", \"interesting\", \"interesting\", \"interesting\", \"internet\", \"internet\", \"internet\", \"internet\", \"internet\", \"intervene\", \"invloved\", \"irrelevant\", \"irrelevant\", \"irrelevant\", \"irrelevant\", \"irrelevant\", \"irrelevant\", \"irrelevant\", \"isit\", \"items\", \"job\", \"job\", \"job\", \"job\", \"job\", \"job\", \"job\", \"kept\", \"kind\", \"kind\", \"kind\", \"kind\", \"know\", \"know\", \"know\", \"know\", \"know\", \"know\", \"know\", \"know\", \"knowledge\", \"knowledge\", \"knowledge\", \"knowledge\", \"knowledge\", \"knowledge\", \"knowledge\", \"knowledge\", \"la\", \"la\", \"last\", \"law\", \"law\", \"law\", \"law\", \"law\", \"learn\", \"learn\", \"learn\", \"learn\", \"learn\", \"learn\", \"learn\", \"learn\", \"learn\", \"learned\", \"learned\", \"learned\", \"learned\", \"learned\", \"learned\", \"learning\", \"learning\", \"learning\", \"learning\", \"learning\", \"learning\", \"learning\", \"learning\", \"learning\", \"lease\", \"least\", \"least\", \"least\", \"least\", \"least\", \"least\", \"least\", \"least\", \"least\", \"least\", \"less\", \"less\", \"less\", \"less\", \"less\", \"less\", \"let\", \"limits\", \"line\", \"line\", \"line\", \"listed\", \"looks\", \"los\", \"los\", \"los\", \"main\", \"main\", \"main\", \"makes\", \"makes\", \"makes\", \"manager\", \"manner\", \"maybe\", \"maybe\", \"maybe\", \"maybe\", \"maybe\", \"maybe\", \"maybe\", \"maynot\", \"meaningful\", \"member\", \"member\", \"member\", \"memorisation\", \"message\", \"mexico\", \"mind\", \"mission\", \"mission\", \"mission\", \"modes\", \"modes\", \"modes\", \"modes\", \"moments\", \"monkey\", \"months\", \"months\", \"moralizing\", \"mostly\", \"mostly\", \"motivation\", \"motivation\", \"mouvement\", \"movement\", \"movement\", \"movement\", \"movement\", \"movement\", \"movement\", \"much\", \"much\", \"much\", \"much\", \"much\", \"much\", \"much\", \"muchos\", \"must\", \"must\", \"na\", \"na\", \"na\", \"na\", \"na\", \"na\", \"names\", \"nan\", \"nan\", \"nan\", \"necesary\", \"necessary\", \"necessary\", \"necessary\", \"necessary\", \"necessary\", \"need\", \"need\", \"need\", \"need\", \"need\", \"needed\", \"needed\", \"needed\", \"negotiations\", \"neophyte\", \"never\", \"never\", \"new\", \"new\", \"new\", \"niac\", \"niac\", \"nil\", \"ninguno\", \"ninguno\", \"non\", \"non\", \"non\", \"non\", \"none\", \"none\", \"none\", \"none\", \"none\", \"none\", \"none\", \"nothing\", \"nothing\", \"nothing\", \"nothing\", \"nothing\", \"nothing\", \"nothing\", \"nothing\", \"obviously\", \"office\", \"office\", \"office\", \"office\", \"one\", \"one\", \"one\", \"one\", \"one\", \"one\", \"one\", \"one\", \"one\", \"ones\", \"ones\", \"ones\", \"online\", \"online\", \"online\", \"online\", \"online\", \"online\", \"open\", \"open\", \"operates\", \"operating\", \"operations\", \"operations\", \"operations\", \"operations\", \"operations\", \"operations\", \"operations\", \"opetation\", \"organization\", \"organization\", \"organization\", \"organization\", \"organization\", \"organization\", \"organization\", \"oriented\", \"pandemic\", \"paramount\", \"part\", \"part\", \"part\", \"part\", \"part\", \"part\", \"part\", \"part\", \"parte\", \"participate\", \"participatory\", \"particular\", \"particular\", \"parts\", \"parts\", \"parts\", \"parts\", \"parts\", \"parts\", \"parts\", \"parts\", \"people\", \"people\", \"people\", \"people\", \"people\", \"people\", \"people\", \"perfect\", \"perfect\", \"perfectly\", \"performing\", \"pero\", \"personal\", \"peu\", \"pinpoint\", \"placed\", \"plans\", \"point\", \"point\", \"point\", \"points\", \"points\", \"position\", \"position\", \"position\", \"position\", \"position\", \"powers\", \"practice\", \"practice\", \"practice\", \"practice\", \"practiced\", \"practiced\", \"practiced\", \"practiced\", \"practiced\", \"present\", \"pretty\", \"pretty\", \"prevent\", \"prevention\", \"prevention\", \"prevention\", \"previous\", \"previously\", \"principals\", \"principios\", \"principles\", \"principles\", \"principles\", \"principles\", \"principles\", \"principles\", \"problems\", \"professional\", \"professional\", \"promoted\", \"protection\", \"protection\", \"protection\", \"protection\", \"protection\", \"protection\", \"protection\", \"protection\", \"provision\", \"purposely\", \"quality\", \"que\", \"que\", \"question\", \"question\", \"question\", \"questions\", \"questions\", \"questions\", \"qui\", \"rassemble\", \"reading\", \"reading\", \"reading\", \"reading\", \"reading\", \"reading\", \"really\", \"really\", \"really\", \"really\", \"really\", \"really\", \"really\", \"really\", \"really\", \"received\", \"recruit\", \"refresher\", \"region\", \"region\", \"region\", \"region\", \"region\", \"region\", \"relaated\", \"relate\", \"related\", \"related\", \"related\", \"related\", \"related\", \"related\", \"related\", \"related\", \"related\", \"relationship\", \"relevant\", \"relevant\", \"relevant\", \"relevant\", \"relevant\", \"relevant\", \"relevant\", \"relevant\", \"relevant\", \"relevant\", \"relevante\", \"requires\", \"requiring\", \"resources\", \"respect\", \"respect\", \"responsibility\", \"restrict\", \"revolving\", \"role\", \"role\", \"role\", \"role\", \"role\", \"role\", \"room\", \"room\", \"rrn\", \"rules\", \"rules\", \"rules\", \"rules\", \"rules\", \"ruling\", \"rushed\", \"saber\", \"safety\", \"safety\", \"saved\", \"saw\", \"say\", \"say\", \"say\", \"say\", \"say\", \"say\", \"say\", \"say\", \"say\", \"scenarios\", \"scenarios\", \"scenarios\", \"scheme\", \"scope\", \"scope\", \"scope\", \"screen\", \"secret\", \"security\", \"security\", \"security\", \"security\", \"security\", \"security\", \"security\", \"see\", \"see\", \"see\", \"see\", \"seeing\", \"select\", \"sens\", \"serve\", \"similar\", \"simply\", \"since\", \"since\", \"since\", \"since\", \"since\", \"since\", \"situations\", \"situations\", \"situations\", \"skill\", \"skill\", \"skill\", \"skill\", \"skill\", \"skill\", \"skill\", \"skills\", \"skills\", \"skills\", \"skills\", \"skills\", \"skills\", \"skills\", \"skills\", \"skills\", \"skim\", \"slightly\", \"societies\", \"societies\", \"something\", \"something\", \"sometning\", \"son\", \"sorry\", \"sources\", \"staff\", \"staff\", \"staff\", \"staff\", \"staff\", \"staff\", \"staff\", \"started\", \"still\", \"still\", \"still\", \"still\", \"still\", \"still\", \"strengthen\", \"striongly\", \"structure\", \"structure\", \"structure\", \"structure\", \"structure\", \"stuff\", \"stuff\", \"subjects\", \"subjects\", \"subjects\", \"success\", \"successful\", \"sujets\", \"suma\", \"support\", \"support\", \"support\", \"support\", \"support\", \"sure\", \"sure\", \"sure\", \"sure\", \"sure\", \"sure\", \"survey\", \"tackled\", \"taken\", \"taken\", \"taking\", \"taking\", \"tanto\", \"tender\", \"tenders\", \"terms\", \"thing\", \"thing\", \"thing\", \"thing\", \"things\", \"things\", \"think\", \"think\", \"think\", \"think\", \"think\", \"think\", \"think\", \"think\", \"think\", \"think\", \"thisk\", \"time\", \"time\", \"time\", \"time\", \"time\", \"time\", \"time\", \"time\", \"times\", \"times\", \"times\", \"times\", \"todo\", \"todo\", \"topic\", \"topic\", \"topic\", \"topic\", \"topic\", \"topic\", \"topics\", \"topics\", \"topics\", \"topics\", \"topics\", \"topics\", \"topics\", \"topics\", \"tough\", \"tout\", \"toward\", \"towards\", \"trabajan\", \"trainers\", \"training\", \"training\", \"training\", \"training\", \"training\", \"training\", \"travel\", \"trop\", \"two\", \"understadn\", \"understadn\", \"understand\", \"understand\", \"understand\", \"understand\", \"understand\", \"understand\", \"understand\", \"understanding\", \"understanding\", \"understanding\", \"understanding\", \"understanding\", \"understanding\", \"understanding\", \"unit\", \"unit\", \"unnecessary\", \"useful\", \"useful\", \"useful\", \"useful\", \"useful\", \"useful\", \"useful\", \"useful\", \"useful\", \"usefull\", \"using\", \"using\", \"using\", \"vague\", \"viewed\", \"war\", \"war\", \"war\", \"war\", \"wasted\", \"ways\", \"ways\", \"wearing\", \"wec\", \"wec\", \"week\", \"well\", \"well\", \"well\", \"well\", \"well\", \"well\", \"well\", \"whether\", \"wicrc\", \"wifi\", \"work\", \"work\", \"work\", \"work\", \"work\", \"work\", \"work\", \"work\", \"work\", \"work\", \"worked\", \"working\", \"working\", \"working\", \"working\", \"working\", \"working\", \"working\", \"working\", \"working\", \"worknajob\", \"workplace\", \"works\", \"works\", \"works\", \"works\", \"works\", \"works\", \"would\", \"would\", \"would\", \"would\", \"would\", \"would\", \"would\", \"would\", \"wouldnt\", \"years\", \"yet\", \"yet\"]}, \"R\": 30, \"lambda.step\": 0.01, \"plot.opts\": {\"xlab\": \"PC1\", \"ylab\": \"PC2\"}, \"topic.order\": [6, 4, 9, 7, 10, 1, 8, 3, 2, 5]};\n",
              "\n",
              "function LDAvis_load_lib(url, callback){\n",
              "  var s = document.createElement('script');\n",
              "  s.src = url;\n",
              "  s.async = true;\n",
              "  s.onreadystatechange = s.onload = callback;\n",
              "  s.onerror = function(){console.warn(\"failed to load library \" + url);};\n",
              "  document.getElementsByTagName(\"head\")[0].appendChild(s);\n",
              "}\n",
              "\n",
              "if(typeof(LDAvis) !== \"undefined\"){\n",
              "   // already loaded: just create the visualization\n",
              "   !function(LDAvis){\n",
              "       new LDAvis(\"#\" + \"ldavis_el601401635254704169594395887\", ldavis_el601401635254704169594395887_data);\n",
              "   }(LDAvis);\n",
              "}else if(typeof define === \"function\" && define.amd){\n",
              "   // require.js is available: use it to load d3/LDAvis\n",
              "   require.config({paths: {d3: \"https://d3js.org/d3.v5\"}});\n",
              "   require([\"d3\"], function(d3){\n",
              "      window.d3 = d3;\n",
              "      LDAvis_load_lib(\"https://cdn.jsdelivr.net/gh/bmabey/pyLDAvis@3.3.1/pyLDAvis/js/ldavis.v3.0.0.js\", function(){\n",
              "        new LDAvis(\"#\" + \"ldavis_el601401635254704169594395887\", ldavis_el601401635254704169594395887_data);\n",
              "      });\n",
              "    });\n",
              "}else{\n",
              "    // require.js not available: dynamically load d3 & LDAvis\n",
              "    LDAvis_load_lib(\"https://d3js.org/d3.v5.js\", function(){\n",
              "         LDAvis_load_lib(\"https://cdn.jsdelivr.net/gh/bmabey/pyLDAvis@3.3.1/pyLDAvis/js/ldavis.v3.0.0.js\", function(){\n",
              "                 new LDAvis(\"#\" + \"ldavis_el601401635254704169594395887\", ldavis_el601401635254704169594395887_data);\n",
              "            })\n",
              "         });\n",
              "}\n",
              "</script>"
            ]
          },
          "metadata": {},
          "execution_count": 30
        }
      ]
    },
    {
      "cell_type": "code",
      "source": [
        "new_corpus = \"I found the course to be quite good and relavant to what I do\""
      ],
      "metadata": {
        "id": "6Eed_-Uki1mN"
      },
      "execution_count": null,
      "outputs": []
    },
    {
      "cell_type": "code",
      "source": [
        "new_data_words = list(sent_to_words(new_corpus))\n",
        "\n",
        "new_data_words = remove_stopwords(new_data_words)"
      ],
      "metadata": {
        "id": "05n7FKzErMER"
      },
      "execution_count": null,
      "outputs": []
    },
    {
      "cell_type": "code",
      "source": [
        "new_corpus"
      ],
      "metadata": {
        "colab": {
          "base_uri": "https://localhost:8080/",
          "height": 36
        },
        "id": "9ZGDMksCrhLd",
        "outputId": "eea1ea7d-7d5c-4c77-8ca8-7390bcef645b"
      },
      "execution_count": null,
      "outputs": [
        {
          "output_type": "execute_result",
          "data": {
            "text/plain": [
              "'I found the course to be quite good and relavant to what I do'"
            ],
            "application/vnd.google.colaboratory.intrinsic+json": {
              "type": "string"
            }
          },
          "metadata": {},
          "execution_count": 239
        }
      ]
    },
    {
      "cell_type": "code",
      "source": [
        "list(new_corpus)"
      ],
      "metadata": {
        "id": "4G7OlL3bsuCs"
      },
      "execution_count": null,
      "outputs": []
    },
    {
      "cell_type": "code",
      "source": [],
      "metadata": {
        "id": "1WZCbPPmt4Aw"
      },
      "execution_count": null,
      "outputs": []
    }
  ]
}